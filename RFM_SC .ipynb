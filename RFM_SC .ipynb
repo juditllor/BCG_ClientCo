{
 "cells": [
  {
   "cell_type": "code",
   "execution_count": null,
   "metadata": {
    "id": "Un2kxmFon1uV"
   },
   "outputs": [],
   "source": [
    "pip install lifetimes"
   ]
  },
  {
   "cell_type": "markdown",
   "metadata": {},
   "source": [
    "## Comprehensive Analysis and Predictive Modeling of Our Customers\r\n",
    "You will find herets an in-depth analysis and predictive modeling of customer data for ClientCo Company  ny, focusing on understanding customer behavior, predicting future purchasing patterns, and deriving actionable insights. The analysis followthised approach:\r\n",
    "\r\n",
    "- **Data Preparation:**\r\n",
    "  - Essential data manipulation and visualization libraries are imported.\r\n",
    "  - Transaction data is loaded and preprocessed for analysis.\r\n",
    "  - Aggregation of transactions on various time scales provides initial insights into customer activity.\r\n",
    "\r\n",
    "- **RFM Segmentation:**\r\n",
    "  - Customers are segmented based on Recency, Frequency, and Monetary value using RFM metrics.\r\n",
    "  - The data is divided into calibration and holdout sets to evaluate the predictive models effectively.\r\n",
    "  - The BG/NBD model is applied to forecast future transaction behavior, with performance validated against the holdout set.\r\n",
    "\r\n",
    "- **Predictive Modeling:**\r\n",
    "  - The probability of each customer's active status is determined.\r\n",
    "  - The Gamma-Gamma model is used to predict the average monetary value of future transactions for repeat customers.\r\n",
    "  - Customer Lifetime Value is calculated, integrating the outputs from the BG/NBD and Gamma-Gamma models.\r\n",
    "\r\n",
    "- **Customer Behavior Insights:**\r\n",
    "  - Rolling metrics and churn analysis provide deeper insights into customer behavior.\r\n",
    "  - Custom logic for churn identification helps target at-risk customers.\r\n",
    "  - Visualizations of model outputs facilitate an intuitive understanding of the analysis and its accuracy.\r\n",
    "\r\n",
    "The combination of RFM segmentation, predictive modeling, and custom analyses provides a nuanced view of the customer base, enabling targeted engagement strategies to drive profitability.\r\n"
   ]
  },
  {
   "cell_type": "markdown",
   "metadata": {},
   "source": [
    "# __________________________________________________________________________________________________________"
   ]
  },
  {
   "cell_type": "markdown",
   "metadata": {},
   "source": [
    "### Data Preparation :\r\n",
    "- **Import Essential Libraries:** Import `lifetimes`, `pandas`, `numpy`, `matplotlib`, and `seaborn` for data manipulation and visualization.\r\n",
    "- **Load and Prepare Data:** Load transaction data, converting date columns to datetime for proper analysis.\r\n",
    "- **Aggregate Transactions:** Aggregate transactions on daily, weekly, and monthly intervals to analyze customer activity patterns.\r\n"
   ]
  },
  {
   "cell_type": "code",
   "execution_count": null,
   "metadata": {
    "id": "yIaIQxRgn1uX"
   },
   "outputs": [],
   "source": [
    "from lifetimes.utils import summary_data_from_transaction_data, calibration_and_holdout_data"
   ]
  },
  {
   "cell_type": "code",
   "execution_count": null,
   "metadata": {
    "id": "0OiVpctKn1uX"
   },
   "outputs": [],
   "source": [
    "from lifetimes.datasets import load_dataset"
   ]
  },
  {
   "cell_type": "code",
   "execution_count": null,
   "metadata": {
    "id": "VbMYUnahn1uY"
   },
   "outputs": [],
   "source": [
    "transaction_data = pd.read_csv('transactions_dataset.csv',sep=';')"
   ]
  },
  {
   "cell_type": "code",
   "execution_count": null,
   "metadata": {
    "id": "1H7JZpcvn1uY",
    "outputId": "c5695009-f50d-451c-9a95-52c16f650e52"
   },
   "outputs": [
    {
     "data": {
      "text/plain": [
       "Index(['date_order', 'date_invoice', 'product_id', 'client_id', 'sales_net',\n",
       "       'quantity', 'order_channel', 'branch_id'],\n",
       "      dtype='object')"
      ]
     },
     "execution_count": 8,
     "metadata": {},
     "output_type": "execute_result"
    }
   ],
   "source": [
    "transaction_data.columns"
   ]
  },
  {
   "cell_type": "code",
   "execution_count": null,
   "metadata": {
    "id": "jr4SFKPRn1uY"
   },
   "outputs": [],
   "source": [
    "import pandas as pd\n",
    "import numpy as np\n",
    "import matplotlib.pyplot as plt\n",
    "import seaborn as sns"
   ]
  },
  {
   "cell_type": "code",
   "execution_count": null,
   "metadata": {
    "id": "JTnfMExYn1uZ"
   },
   "outputs": [],
   "source": [
    "# converting the column date_order and date_invoice from object (yyyy-mm-dd) to datetime\n",
    "transaction_data['date_order'] = pd.to_datetime(transaction_data['date_order'])\n",
    "transaction_data['date_invoice'] = pd.to_datetime(transaction_data['date_invoice'])"
   ]
  },
  {
   "cell_type": "code",
   "execution_count": null,
   "metadata": {
    "id": "jFkSaj2un1uZ",
    "outputId": "544ad30a-6cc4-440d-89d4-5eb964fb3d58"
   },
   "outputs": [
    {
     "name": "stdout",
     "output_type": "stream",
     "text": [
      "<class 'pandas.core.frame.DataFrame'>\n",
      "RangeIndex: 63319315 entries, 0 to 63319314\n",
      "Data columns (total 8 columns):\n",
      " #   Column         Dtype         \n",
      "---  ------         -----         \n",
      " 0   date_order     datetime64[ns]\n",
      " 1   date_invoice   datetime64[ns]\n",
      " 2   product_id     int64         \n",
      " 3   client_id      int64         \n",
      " 4   sales_net      float64       \n",
      " 5   quantity       int64         \n",
      " 6   order_channel  object        \n",
      " 7   branch_id      int64         \n",
      "dtypes: datetime64[ns](2), float64(1), int64(4), object(1)\n",
      "memory usage: 3.8+ GB\n"
     ]
    }
   ],
   "source": [
    "transaction_data.info()"
   ]
  },
  {
   "cell_type": "code",
   "execution_count": null,
   "metadata": {
    "id": "TEgFchQpn1uZ"
   },
   "outputs": [],
   "source": [
    "# Aggregate transactions on different time scales\n",
    "daily_transactions = transaction_data.set_index('date_order').groupby('client_id').resample('D').size()\n",
    "weekly_transactions = transaction_data.set_index('date_order').groupby('client_id').resample('W').size()\n",
    "monthly_transactions = transaction_data.set_index('date_order').groupby('client_id').resample('M').size()"
   ]
  },
  {
   "cell_type": "code",
   "execution_count": null,
   "metadata": {
    "id": "_XkS5WSin1ua",
    "outputId": "d9f1477f-dfca-4330-c69f-50b9c9487ff8"
   },
   "outputs": [
    {
     "name": "stdout",
     "output_type": "stream",
     "text": [
      "Daily Transactions per Customer:\n",
      "0.8634081564863763\n",
      "Weekly Transactions per Customer:\n",
      "5.966225165625314\n",
      "Monthly Transactions per Customer:\n",
      "24.47974754503982\n"
     ]
    }
   ],
   "source": [
    "print(\"Daily Transactions per Customer:\")\n",
    "print(daily_transactions.mean())\n",
    "\n",
    "print(\"Weekly Transactions per Customer:\")\n",
    "print(weekly_transactions.mean())\n",
    "\n",
    "print(\"Monthly Transactions per Customer:\")\n",
    "print(monthly_transactions.mean())\n"
   ]
  },
  {
   "cell_type": "code",
   "execution_count": null,
   "metadata": {
    "id": "KrVIeTJpn1ua",
    "outputId": "a10381f0-1621-420c-aa99-6c961e721051"
   },
   "outputs": [
    {
     "data": {
      "image/png": "[encoded data removed]",
      "text/plain": [
       "<Figure size 1000x600 with 1 Axes>"
      ]
     },
     "metadata": {},
     "output_type": "display_data"
    }
   ],
   "source": [
    "import matplotlib.pyplot as plt\n",
    "\n",
    "# Example for monthly transactions\n",
    "plt.figure(figsize=(10, 6))\n",
    "monthly_transactions.hist(bins=30)\n",
    "plt.title('Distribution of Monthly Transactions per Customer')\n",
    "plt.xlabel('Number of Transactions')\n",
    "plt.ylabel('Frequency')\n",
    "plt.show()\n"
   ]
  },
  {
   "cell_type": "markdown",
   "metadata": {},
   "source": [
    "# RFM Segmentation & Predictive Modeling :\r\n",
    "- **Calculate RFM Metrics:** Use `lifetimes` utility to calculate RFM metrics for each customer.\r\n",
    "- **Calibration and Holdout Sets:** Split data into calibration and holdout sets for accurate model evaluation.\r\n",
    "- **BG/NBD Model:** Fit the BG/NBD model to forecast future transactions and evaluate its performance against holdout dat- **Alive Probability Calculation:** Determine the probability of a customer being active using the BG/NBD model.\n",
    "- **Gamma-Gamma Model for Monetary Value:** Estimate the average monetary value of transactions for repeat customers with the Gamma-Gamma model.\n",
    "- **Customer Lifetime Value (CLV):** Calculate CLV using outputs from both BG/NBD and Gamma-Gamma models to assess long-term customer value.a.\r\n"
   ]
  },
  {
   "cell_type": "code",
   "execution_count": null,
   "metadata": {
    "id": "noqexarBn1ua",
    "outputId": "48fd18ad-9aac-4db7-85fe-92dfca49e99f"
   },
   "outputs": [
    {
     "name": "stdout",
     "output_type": "stream",
     "text": [
      "          client_id     daily_mean    weekly_mean   monthly_mean\n",
      "count  1.705890e+05  170589.000000  170589.000000  170589.000000\n",
      "mean   1.139310e+06       1.199386       4.963991      18.048776\n",
      "std    6.567710e+05       3.682848      14.655456      58.887325\n",
      "min    6.000000e+00       0.002793       0.019417       0.080000\n",
      "25%    5.702510e+05       0.080838       0.554348       1.833333\n",
      "50%    1.140437e+06       0.258065       1.468750       4.375000\n",
      "75%    1.709745e+06       1.000000       4.000000      13.052632\n",
      "max    2.274517e+06     396.000000    1015.730769    4225.440000\n"
     ]
    }
   ],
   "source": [
    "# Aggregate transactions on different time scales and convert to DataFrame with named columns\n",
    "daily_transactions = transaction_data.groupby('client_id').resample('D', on='date_order').size().reset_index(name='daily_transactions')\n",
    "weekly_transactions = transaction_data.groupby('client_id').resample('W', on='date_order').size().reset_index(name='weekly_transactions')\n",
    "monthly_transactions = transaction_data.groupby('client_id').resample('M', on='date_order').size().reset_index(name='monthly_transactions')\n",
    "\n",
    "# Calculate the mean of transactions per period for each customer\n",
    "daily_mean = daily_transactions.groupby('client_id')['daily_transactions'].mean().reset_index(name='daily_mean')\n",
    "weekly_mean = weekly_transactions.groupby('client_id')['weekly_transactions'].mean().reset_index(name='weekly_mean')\n",
    "monthly_mean = monthly_transactions.groupby('client_id')['monthly_transactions'].mean().reset_index(name='monthly_mean')\n",
    "\n",
    "# Merge the means into a single DataFrame\n",
    "aggregated_means = pd.merge(daily_mean, weekly_mean, on='client_id')\n",
    "aggregated_means = pd.merge(aggregated_means, monthly_mean, on='client_id')\n",
    "\n",
    "# Calculate descriptive statistics for the aggregated means\n",
    "statistics = aggregated_means.describe()\n",
    "\n",
    "# Show the statistics\n",
    "print(statistics)"
   ]
  },
  {
   "cell_type": "code",
   "execution_count": null,
   "metadata": {
    "id": "NTIaCciQn1ua"
   },
   "outputs": [],
   "source": [
    "# Filter out transactions with sales_net less than or equal to 0\n",
    "filtered_transactions = transaction_data[transaction_data['sales_net'] > 0]\n",
    "\n",
    "# Find the latest date in your filtered dataset\n",
    "latest_date = filtered_transactions['date_order'].max()\n",
    "\n",
    "# Now use this latest date in your call to summary_data_from_transaction_data\n",
    "rfm = summary_data_from_transaction_data(\n",
    "    transactions=filtered_transactions,\n",
    "    customer_id_col='client_id',\n",
    "    datetime_col='date_order',\n",
    "    monetary_value_col='sales_net',\n",
    "    observation_period_end=latest_date,  # Use the dynamically determined latest date\n",
    "    freq='M'  # Weekly frequency, adjust if needed\n",
    ")\n",
    "\n",
    "rfm.reset_index(inplace=True)"
   ]
  },
  {
   "cell_type": "code",
   "execution_count": null,
   "metadata": {
    "id": "ZQoWmBvfn1ua",
    "outputId": "368f59ba-53b9-467f-9033-afde33a80af6"
   },
   "outputs": [
    {
     "data": {
      "text/html": [
       "<div>\n",
       "<style scoped>\n",
       "    .dataframe tbody tr th:only-of-type {\n",
       "        vertical-align: middle;\n",
       "    }\n",
       "\n",
       "    .dataframe tbody tr th {\n",
       "        vertical-align: top;\n",
       "    }\n",
       "\n",
       "    .dataframe thead th {\n",
       "        text-align: right;\n",
       "    }\n",
       "</style>\n",
       "<table border=\"1\" class=\"dataframe\">\n",
       "  <thead>\n",
       "    <tr style=\"text-align: right;\">\n",
       "      <th></th>\n",
       "      <th>client_id</th>\n",
       "      <th>frequency</th>\n",
       "      <th>recency</th>\n",
       "      <th>T</th>\n",
       "      <th>monetary_value</th>\n",
       "    </tr>\n",
       "  </thead>\n",
       "  <tbody>\n",
       "    <tr>\n",
       "      <th>count</th>\n",
       "      <td>1.705860e+05</td>\n",
       "      <td>170586.000000</td>\n",
       "      <td>170586.000000</td>\n",
       "      <td>170586.000000</td>\n",
       "      <td>1.705860e+05</td>\n",
       "    </tr>\n",
       "    <tr>\n",
       "      <th>mean</th>\n",
       "      <td>1.139314e+06</td>\n",
       "      <td>9.266323</td>\n",
       "      <td>13.891632</td>\n",
       "      <td>18.574500</td>\n",
       "      <td>3.128761e+03</td>\n",
       "    </tr>\n",
       "    <tr>\n",
       "      <th>std</th>\n",
       "      <td>6.567712e+05</td>\n",
       "      <td>8.469041</td>\n",
       "      <td>8.883959</td>\n",
       "      <td>6.372500</td>\n",
       "      <td>1.207824e+04</td>\n",
       "    </tr>\n",
       "    <tr>\n",
       "      <th>min</th>\n",
       "      <td>6.000000e+00</td>\n",
       "      <td>0.000000</td>\n",
       "      <td>0.000000</td>\n",
       "      <td>0.000000</td>\n",
       "      <td>0.000000e+00</td>\n",
       "    </tr>\n",
       "    <tr>\n",
       "      <th>25%</th>\n",
       "      <td>5.702582e+05</td>\n",
       "      <td>2.000000</td>\n",
       "      <td>4.935484</td>\n",
       "      <td>15.741935</td>\n",
       "      <td>2.306658e+02</td>\n",
       "    </tr>\n",
       "    <tr>\n",
       "      <th>50%</th>\n",
       "      <td>1.140456e+06</td>\n",
       "      <td>6.000000</td>\n",
       "      <td>16.709677</td>\n",
       "      <td>21.580645</td>\n",
       "      <td>7.951239e+02</td>\n",
       "    </tr>\n",
       "    <tr>\n",
       "      <th>75%</th>\n",
       "      <td>1.709758e+06</td>\n",
       "      <td>17.000000</td>\n",
       "      <td>22.548387</td>\n",
       "      <td>22.580645</td>\n",
       "      <td>2.320942e+03</td>\n",
       "    </tr>\n",
       "    <tr>\n",
       "      <th>max</th>\n",
       "      <td>2.274517e+06</td>\n",
       "      <td>24.000000</td>\n",
       "      <td>23.548387</td>\n",
       "      <td>23.548387</td>\n",
       "      <td>1.679492e+06</td>\n",
       "    </tr>\n",
       "  </tbody>\n",
       "</table>\n",
       "</div>"
      ],
      "text/plain": [
       "          client_id      frequency        recency              T  \\\n",
       "count  1.705860e+05  170586.000000  170586.000000  170586.000000   \n",
       "mean   1.139314e+06       9.266323      13.891632      18.574500   \n",
       "std    6.567712e+05       8.469041       8.883959       6.372500   \n",
       "min    6.000000e+00       0.000000       0.000000       0.000000   \n",
       "25%    5.702582e+05       2.000000       4.935484      15.741935   \n",
       "50%    1.140456e+06       6.000000      16.709677      21.580645   \n",
       "75%    1.709758e+06      17.000000      22.548387      22.580645   \n",
       "max    2.274517e+06      24.000000      23.548387      23.548387   \n",
       "\n",
       "       monetary_value  \n",
       "count    1.705860e+05  \n",
       "mean     3.128761e+03  \n",
       "std      1.207824e+04  \n",
       "min      0.000000e+00  \n",
       "25%      2.306658e+02  \n",
       "50%      7.951239e+02  \n",
       "75%      2.320942e+03  \n",
       "max      1.679492e+06  "
      ]
     },
     "execution_count": 7,
     "metadata": {},
     "output_type": "execute_result"
    }
   ],
   "source": [
    "rfm.describe()"
   ]
  },
  {
   "cell_type": "code",
   "execution_count": null,
   "metadata": {
    "id": "Cu7UWOSrn1ua"
   },
   "outputs": [],
   "source": [
    "from datetime import timedelta\n",
    "\n",
    "# Define observation and calibration periods\n",
    "holdout_days = 120\n",
    "current_date = filtered_transactions['date_order'].max()\n",
    "calibration_end_date = current_date - timedelta(days=holdout_days)"
   ]
  },
  {
   "cell_type": "code",
   "execution_count": null,
   "metadata": {
    "id": "ydEWASqSn1ub",
    "outputId": "de6438ec-c5c0-495d-8dc4-fd5d8924be69"
   },
   "outputs": [
    {
     "name": "stderr",
     "output_type": "stream",
     "text": [
      "/Users/nawid/anaconda3/envs/myenvironment/lib/python3.10/site-packages/pandas/core/arraylike.py:396: RuntimeWarning: invalid value encountered in log\n",
      "  result = getattr(ufunc, method)(*inputs, **kwargs)\n"
     ]
    },
    {
     "data": {
      "text/plain": [
       "<Axes: title={'center': 'Actual Purchases in Holdout Period vs Predicted Purchases'}, xlabel='Purchases in calibration period', ylabel='Average of Purchases in Holdout Period'>"
      ]
     },
     "execution_count": 11,
     "metadata": {},
     "output_type": "execute_result"
    },
    {
     "data": {
      "image/png": "[encoded data removed]",
      "text/plain": [
       "<Figure size 640x480 with 1 Axes>"
      ]
     },
     "metadata": {},
     "output_type": "display_data"
    }
   ],
   "source": [
    "from lifetimes.utils import calibration_and_holdout_data\n",
    "\n",
    "# Assuming you've defined `calibration_end_date` based on your business cycle\n",
    "summary_cal_holdout = calibration_and_holdout_data(\n",
    "    transactions=filtered_transactions,\n",
    "    customer_id_col='client_id',\n",
    "    datetime_col='date_order',\n",
    "    monetary_value_col='sales_net',\n",
    "    calibration_period_end=calibration_end_date,\n",
    "    observation_period_end=latest_date,\n",
    "    freq='M'  # Monthly frequency\n",
    ")\n",
    "from lifetimes import BetaGeoFitter\n",
    "\n",
    "bgf = BetaGeoFitter(penalizer_coef=0.01)  # Start with a small penalizer_coef and adjust as necessary\n",
    "bgf.fit(summary_cal_holdout['frequency_cal'], summary_cal_holdout['recency_cal'], summary_cal_holdout['T_cal'])\n",
    "from lifetimes.plotting import plot_calibration_purchases_vs_holdout_purchases\n",
    "\n",
    "plot_calibration_purchases_vs_holdout_purchases(bgf, summary_cal_holdout)\n"
   ]
  },
  {
   "cell_type": "code",
   "execution_count": null,
   "metadata": {
    "id": "EzU4vvbWn1ub",
    "outputId": "0d70c65d-2708-454a-bcbf-db2847689944"
   },
   "outputs": [
    {
     "data": {
      "text/plain": [
       "Index(['client_id', 'frequency', 'recency', 'T', 'monetary_value',\n",
       "       'alive_probability'],\n",
       "      dtype='object')"
      ]
     },
     "execution_count": 14,
     "metadata": {},
     "output_type": "execute_result"
    }
   ],
   "source": [
    "rfm.columns"
   ]
  },
  {
   "cell_type": "code",
   "execution_count": null,
   "metadata": {
    "id": "rtArtI4Vn1ub"
   },
   "outputs": [],
   "source": [
    "rfm['alive_probability'] = bgf.conditional_probability_alive(\n",
    "    frequency=rfm['frequency'],\n",
    "    recency=rfm['recency'],\n",
    "    T=rfm['T']\n",
    ")"
   ]
  },
  {
   "cell_type": "code",
   "execution_count": null,
   "metadata": {
    "id": "wKqN1D88n1ub",
    "outputId": "72e6631d-a4c4-46ce-f894-b220e3a95539"
   },
   "outputs": [
    {
     "data": {
      "image/png": "[encoded data removed]",
      "text/plain": [
       "<Figure size 640x480 with 1 Axes>"
      ]
     },
     "metadata": {},
     "output_type": "display_data"
    }
   ],
   "source": [
    "# Plot the distribution of 'alive' probabilities\n",
    "import seaborn as sns\n",
    "import matplotlib.pyplot as plt\n",
    "\n",
    "sns.histplot(rfm['alive_probability'], kde=True, stat=\"density\", linewidth=0)\n",
    "plt.title('Distribution of Alive Probabilities')\n",
    "plt.xlabel('Alive Probability')\n",
    "plt.ylabel('Density')\n",
    "plt.show()"
   ]
  },
  {
   "cell_type": "code",
   "execution_count": null,
   "metadata": {
    "id": "Sb_C8kwTn1ub",
    "outputId": "e0fbbe14-d346-479f-bc4b-aefb5d339b58"
   },
   "outputs": [
    {
     "data": {
      "text/plain": [
       "<Axes: title={'center': 'Frequency of Repeat Transactions'}, xlabel='Number of Calibration Period Transactions', ylabel='Customers'>"
      ]
     },
     "execution_count": 16,
     "metadata": {},
     "output_type": "execute_result"
    },
    {
     "data": {
      "image/png": "[encoded data removed]",
      "text/plain": [
       "<Figure size 640x480 with 1 Axes>"
      ]
     },
     "metadata": {},
     "output_type": "display_data"
    }
   ],
   "source": [
    "from lifetimes.plotting import plot_period_transactions\n",
    "plot_period_transactions(bgf)"
   ]
  },
  {
   "cell_type": "code",
   "execution_count": null,
   "metadata": {
    "id": "A3LvfBY5n1ub",
    "outputId": "71b1f53e-f99e-4c0b-ade8-bf44c6686992"
   },
   "outputs": [
    {
     "name": "stdout",
     "output_type": "stream",
     "text": [
      "           coef  se(coef)  lower 95% bound  upper 95% bound\n",
      "r      1.362464  0.005963         1.350776         1.374151\n",
      "alpha  2.704986  0.013170         2.679173         2.730798\n",
      "a      0.013489  0.000370         0.012763         0.014215\n",
      "b      0.422095  0.010467         0.401581         0.442610\n"
     ]
    }
   ],
   "source": [
    "print(bgf.summary)"
   ]
  },
  {
   "cell_type": "code",
   "execution_count": null,
   "metadata": {
    "id": "Y59LRTVon1ub",
    "outputId": "71651725-6f84-4319-8806-93cbff7b4924"
   },
   "outputs": [
    {
     "data": {
      "text/html": [
       "<div>\n",
       "<style scoped>\n",
       "    .dataframe tbody tr th:only-of-type {\n",
       "        vertical-align: middle;\n",
       "    }\n",
       "\n",
       "    .dataframe tbody tr th {\n",
       "        vertical-align: top;\n",
       "    }\n",
       "\n",
       "    .dataframe thead th {\n",
       "        text-align: right;\n",
       "    }\n",
       "</style>\n",
       "<table border=\"1\" class=\"dataframe\">\n",
       "  <thead>\n",
       "    <tr style=\"text-align: right;\">\n",
       "      <th></th>\n",
       "      <th>client_id</th>\n",
       "      <th>frequency</th>\n",
       "      <th>recency</th>\n",
       "      <th>T</th>\n",
       "      <th>monetary_value</th>\n",
       "      <th>alive_probability</th>\n",
       "    </tr>\n",
       "  </thead>\n",
       "  <tbody>\n",
       "    <tr>\n",
       "      <th>count</th>\n",
       "      <td>1.705860e+05</td>\n",
       "      <td>170586.000000</td>\n",
       "      <td>170586.000000</td>\n",
       "      <td>170586.000000</td>\n",
       "      <td>1.705860e+05</td>\n",
       "      <td>170586.000000</td>\n",
       "    </tr>\n",
       "    <tr>\n",
       "      <th>mean</th>\n",
       "      <td>1.139314e+06</td>\n",
       "      <td>9.266323</td>\n",
       "      <td>13.891632</td>\n",
       "      <td>18.574500</td>\n",
       "      <td>3.128761e+03</td>\n",
       "      <td>0.939091</td>\n",
       "    </tr>\n",
       "    <tr>\n",
       "      <th>std</th>\n",
       "      <td>6.567712e+05</td>\n",
       "      <td>8.469041</td>\n",
       "      <td>8.883959</td>\n",
       "      <td>6.372500</td>\n",
       "      <td>1.207824e+04</td>\n",
       "      <td>0.161086</td>\n",
       "    </tr>\n",
       "    <tr>\n",
       "      <th>min</th>\n",
       "      <td>6.000000e+00</td>\n",
       "      <td>0.000000</td>\n",
       "      <td>0.000000</td>\n",
       "      <td>0.000000</td>\n",
       "      <td>0.000000e+00</td>\n",
       "      <td>0.091417</td>\n",
       "    </tr>\n",
       "    <tr>\n",
       "      <th>25%</th>\n",
       "      <td>5.702582e+05</td>\n",
       "      <td>2.000000</td>\n",
       "      <td>4.935484</td>\n",
       "      <td>15.741935</td>\n",
       "      <td>2.306658e+02</td>\n",
       "      <td>0.982119</td>\n",
       "    </tr>\n",
       "    <tr>\n",
       "      <th>50%</th>\n",
       "      <td>1.140456e+06</td>\n",
       "      <td>6.000000</td>\n",
       "      <td>16.709677</td>\n",
       "      <td>21.580645</td>\n",
       "      <td>7.951239e+02</td>\n",
       "      <td>0.997904</td>\n",
       "    </tr>\n",
       "    <tr>\n",
       "      <th>75%</th>\n",
       "      <td>1.709758e+06</td>\n",
       "      <td>17.000000</td>\n",
       "      <td>22.548387</td>\n",
       "      <td>22.580645</td>\n",
       "      <td>2.320942e+03</td>\n",
       "      <td>0.999399</td>\n",
       "    </tr>\n",
       "    <tr>\n",
       "      <th>max</th>\n",
       "      <td>2.274517e+06</td>\n",
       "      <td>24.000000</td>\n",
       "      <td>23.548387</td>\n",
       "      <td>23.548387</td>\n",
       "      <td>1.679492e+06</td>\n",
       "      <td>1.000000</td>\n",
       "    </tr>\n",
       "  </tbody>\n",
       "</table>\n",
       "</div>"
      ],
      "text/plain": [
       "          client_id      frequency        recency              T  \\\n",
       "count  1.705860e+05  170586.000000  170586.000000  170586.000000   \n",
       "mean   1.139314e+06       9.266323      13.891632      18.574500   \n",
       "std    6.567712e+05       8.469041       8.883959       6.372500   \n",
       "min    6.000000e+00       0.000000       0.000000       0.000000   \n",
       "25%    5.702582e+05       2.000000       4.935484      15.741935   \n",
       "50%    1.140456e+06       6.000000      16.709677      21.580645   \n",
       "75%    1.709758e+06      17.000000      22.548387      22.580645   \n",
       "max    2.274517e+06      24.000000      23.548387      23.548387   \n",
       "\n",
       "       monetary_value  alive_probability  \n",
       "count    1.705860e+05      170586.000000  \n",
       "mean     3.128761e+03           0.939091  \n",
       "std      1.207824e+04           0.161086  \n",
       "min      0.000000e+00           0.091417  \n",
       "25%      2.306658e+02           0.982119  \n",
       "50%      7.951239e+02           0.997904  \n",
       "75%      2.320942e+03           0.999399  \n",
       "max      1.679492e+06           1.000000  "
      ]
     },
     "execution_count": 18,
     "metadata": {},
     "output_type": "execute_result"
    }
   ],
   "source": [
    "rfm.describe()"
   ]
  },
  {
   "cell_type": "code",
   "execution_count": null,
   "metadata": {
    "id": "14Q0zIdKn1ub"
   },
   "outputs": [],
   "source": [
    "def rfm_level(df):\n",
    "    if df['RFM_Score'] >= 12:\n",
    "        return 'Super Champions'\n",
    "    elif df['RFM_Score'] > 10.5 and df['RFM_Score'] < 12:\n",
    "        return 'Champions'\n",
    "    elif df['RFM_Score'] > 8.0 and df['RFM_Score'] <= 10.5:\n",
    "        return 'Potential Loyalist'\n",
    "    elif df['RFM_Score'] > 7.0 and df['RFM_Score'] <= 8.0:\n",
    "        return 'Need Attention'\n",
    "    elif df['RFM_Score'] > 5.0 and df['RFM_Score'] <= 7.0:\n",
    "        return 'At Risk'\n",
    "    else:\n",
    "        return 'Hibernating'"
   ]
  },
  {
   "cell_type": "code",
   "execution_count": null,
   "metadata": {
    "id": "QsDMVq_mn1uc",
    "outputId": "fb23e1a0-c7e3-4ef8-b2c5-0f210d91bb11"
   },
   "outputs": [
    {
     "name": "stdout",
     "output_type": "stream",
     "text": [
      "   client_id RFM_Segment  RFM_Score           RFM_Level\n",
      "0          6         233          8      Need Attention\n",
      "1          7         412          7             At Risk\n",
      "2         14         155         11           Champions\n",
      "3         18         155         11           Champions\n",
      "4         25         511          7             At Risk\n",
      "5         37         333          9  Potential Loyalist\n",
      "6         40         154         10  Potential Loyalist\n",
      "7         43         511          7             At Risk\n",
      "8         55         413          8      Need Attention\n",
      "9         56         243          9  Potential Loyalist\n",
      "RFM_Level\n",
      "Potential Loyalist    55148\n",
      "At Risk               43581\n",
      "Champions             32694\n",
      "Need Attention        26417\n",
      "Super Champions       12138\n",
      "Hibernating             608\n",
      "Name: count, dtype: int64\n"
     ]
    }
   ],
   "source": [
    "rfm['RecencyScore'] = pd.qcut(rfm['recency'], 5, labels=[5, 4, 3, 2, 1])\n",
    "rfm['FrequencyScore'] = pd.qcut(rfm['frequency'].rank(method='first'), 5, labels=[1, 2, 3, 4, 5])\n",
    "rfm['MonetaryScore'] = pd.qcut(rfm['monetary_value'].rank(method='first'), 5, labels=[1, 2, 3, 4, 5])\n",
    "\n",
    "rfm['RFM_Segment'] = rfm[['RecencyScore', 'FrequencyScore', 'MonetaryScore']].apply(lambda x: ''.join(x.astype(str)), axis=1)\n",
    "rfm['RFM_Score'] = rfm[['RecencyScore', 'FrequencyScore', 'MonetaryScore']].sum(axis=1).astype(int)\n",
    "\n",
    "# Apply the segmentation to the dataset\n",
    "rfm['RFM_Level'] = rfm.apply(rfm_level, axis=1)\n",
    "\n",
    "# Display results\n",
    "print(rfm[['client_id', 'RFM_Segment', 'RFM_Score', 'RFM_Level']].head(10))\n",
    "rfm_segment_counts = rfm['RFM_Level'].value_counts()\n",
    "print(rfm_segment_counts)"
   ]
  },
  {
   "cell_type": "code",
   "execution_count": null,
   "metadata": {
    "id": "A8nfB1gpn1uc",
    "outputId": "1f1c60aa-447e-4793-c5d3-0e4317d1ce9f"
   },
   "outputs": [
    {
     "data": {
      "image/png": "[encoded data removed]",
      "text/plain": [
       "<Figure size 1000x600 with 1 Axes>"
      ]
     },
     "metadata": {},
     "output_type": "display_data"
    },
    {
     "name": "stdout",
     "output_type": "stream",
     "text": [
      "      Bin_Range  Count\n",
      "0     3.0 - 3.5      1\n",
      "1     3.5 - 4.0      0\n",
      "2     4.0 - 4.5     41\n",
      "3     4.5 - 5.0      0\n",
      "4     5.0 - 5.5    566\n",
      "5     5.5 - 6.0      0\n",
      "6     6.0 - 6.5   4101\n",
      "7     6.5 - 7.0      0\n",
      "8     7.0 - 7.5  39480\n",
      "9     7.5 - 8.0      0\n",
      "10    8.0 - 8.5  26417\n",
      "11    8.5 - 9.0      0\n",
      "12    9.0 - 9.5  28110\n",
      "13   9.5 - 10.0      0\n",
      "14  10.0 - 10.5  27038\n",
      "15  10.5 - 11.0      0\n",
      "16  11.0 - 11.5  32694\n",
      "17  11.5 - 12.0      0\n",
      "18  12.0 - 12.5  11147\n",
      "19  12.5 - 13.0    991\n"
     ]
    }
   ],
   "source": [
    "# Generating the histogram plot for visualization\n",
    "plt.figure(figsize=(10, 6))\n",
    "hist_values = plt.hist(rfm['RFM_Score'], bins=20)\n",
    "plt.title('Distribution of RFM Scores')\n",
    "plt.xlabel('RFM Score')\n",
    "plt.ylabel('Number of Clients')\n",
    "plt.show()\n",
    "\n",
    "# Extracting histogram values for numerical analysis\n",
    "bin_counts = hist_values[0]  # Counts of clients in each bin\n",
    "bin_edges = hist_values[1]  # Edges of the bins\n",
    "\n",
    "# Preparing the data for sharing by creating a DataFrame\n",
    "hist_df = pd.DataFrame({\n",
    "    'Bin_Range': [f\"{bin_edges[i]} - {bin_edges[i+1]}\" for i in range(len(bin_edges)-1)],\n",
    "    'Count': bin_counts.astype(int)\n",
    "})\n",
    "\n",
    "print(hist_df)"
   ]
  },
  {
   "cell_type": "code",
   "execution_count": null,
   "metadata": {
    "id": "DYoXfnC0n1uc",
    "outputId": "73b98087-1dc2-4770-dc0a-ca5aef2f2776"
   },
   "outputs": [
    {
     "data": {
      "text/plain": [
       "Index(['client_id', 'frequency', 'recency', 'T', 'monetary_value',\n",
       "       'alive_probability', 'RecencyScore', 'FrequencyScore', 'MonetaryScore',\n",
       "       'RFM_Segment', 'RFM_Score', 'RFM_Level', 'predicted_purchases', 'clv',\n",
       "       'product_diversity', 'order_size_variability', 'rolling_recency',\n",
       "       'days_since_last_major', 'most_common_purchase_month',\n",
       "       'segment_specific_risk_of_churn', 'churned'],\n",
       "      dtype='object')"
      ]
     },
     "execution_count": 71,
     "metadata": {},
     "output_type": "execute_result"
    }
   ],
   "source": [
    "rfm.columns"
   ]
  },
  {
   "cell_type": "code",
   "execution_count": null,
   "metadata": {
    "id": "Yv10k3eqn1uc",
    "outputId": "c46e4164-2039-41eb-9144-4ea135e31063"
   },
   "outputs": [
    {
     "data": {
      "image/png": "[encoded data removed]",
      "text/plain": [
       "<Figure size 640x480 with 1 Axes>"
      ]
     },
     "metadata": {},
     "output_type": "display_data"
    },
    {
     "data": {
      "image/png": "[encoded data removed]",
      "text/plain": [
       "<Figure size 640x480 with 2 Axes>"
      ]
     },
     "metadata": {},
     "output_type": "display_data"
    }
   ],
   "source": [
    "from lifetimes.plotting import plot_probability_alive_matrix\n",
    "\n",
    "# Visualization 1: Period Transactions\n",
    "plot_period_transactions(bgf, max_frequency=7)  # Adjust max_frequency based on your dataset\n",
    "plt.show()\n",
    "\n",
    "# Visualization 2: Probability Alive Matrix\n",
    "plot_probability_alive_matrix(bgf)\n",
    "plt.show()"
   ]
  },
  {
   "cell_type": "code",
   "execution_count": null,
   "metadata": {
    "id": "BfhGxUOtn1uc",
    "outputId": "73c6323c-b9af-4b86-e555-020bc244571c"
   },
   "outputs": [
    {
     "name": "stderr",
     "output_type": "stream",
     "text": [
      "/Users/nawid/anaconda3/envs/myenvironment/lib/python3.10/site-packages/pandas/core/arraylike.py:396: RuntimeWarning: invalid value encountered in log\n",
      "  result = getattr(ufunc, method)(*inputs, **kwargs)\n"
     ]
    }
   ],
   "source": [
    "# Estimate future purchases for the next 30 days\n",
    "rfm['predicted_purchases'] = bgf.predict(30, rfm['frequency'], rfm['recency'], rfm['T'])"
   ]
  },
  {
   "cell_type": "code",
   "execution_count": null,
   "metadata": {
    "id": "JZf-Sk56n1uc",
    "outputId": "7b51c1f4-b473-4e47-8ce8-4d3f793f4eb3"
   },
   "outputs": [
    {
     "data": {
      "text/plain": [
       "<lifetimes.GammaGammaFitter: fitted with 145464 subjects, p: 3.19, q: 0.22, v: 3.14>"
      ]
     },
     "execution_count": 27,
     "metadata": {},
     "output_type": "execute_result"
    }
   ],
   "source": [
    "from lifetimes import GammaGammaFitter\n",
    "\n",
    "# Filter to customers with repeat purchases\n",
    "repeat_customers = rfm[rfm['frequency'] > 0]\n",
    "\n",
    "# Fit the Gamma-Gamma model\n",
    "ggf = GammaGammaFitter(penalizer_coef=0.01)\n",
    "ggf.fit(repeat_customers['frequency'], repeat_customers['monetary_value'])"
   ]
  },
  {
   "cell_type": "code",
   "execution_count": null,
   "metadata": {
    "id": "pQPq_Z2Qn1uc",
    "outputId": "bcd026b8-6788-4398-bf3e-3c0f1bb40ca9"
   },
   "outputs": [
    {
     "name": "stderr",
     "output_type": "stream",
     "text": [
      "/Users/nawid/anaconda3/envs/myenvironment/lib/python3.10/site-packages/pandas/core/arraylike.py:396: RuntimeWarning: invalid value encountered in log\n",
      "  result = getattr(ufunc, method)(*inputs, **kwargs)\n"
     ]
    }
   ],
   "source": [
    "# Calculate the CLV using the BG/NBD and Gamma-Gamma model outputs\n",
    "# for the next 12 months, discount rate = 0.01 per month (~12.7% annually)\n",
    "rfm['clv'] = ggf.customer_lifetime_value(\n",
    "    bgf,\n",
    "    rfm['frequency'],\n",
    "    rfm['recency'],\n",
    "    rfm['T'],\n",
    "    rfm['monetary_value'],\n",
    "    time=12,  # months\n",
    "    discount_rate=0.01  # monthly discount rate\n",
    ")"
   ]
  },
  {
   "cell_type": "code",
   "execution_count": null,
   "metadata": {
    "id": "h6FwkVCRn1uc",
    "outputId": "b0e474c9-187e-43cd-e858-2444e9fdc05b"
   },
   "outputs": [
    {
     "data": {
      "text/plain": [
       "Index(['client_id', 'frequency', 'recency', 'T', 'monetary_value',\n",
       "       'alive_probability', 'RecencyScore', 'FrequencyScore', 'MonetaryScore',\n",
       "       'RFM_Segment', 'RFM_Score', 'RFM_Level', 'predicted_purchases', 'clv'],\n",
       "      dtype='object')"
      ]
     },
     "execution_count": 29,
     "metadata": {},
     "output_type": "execute_result"
    }
   ],
   "source": [
    "rfm.columns"
   ]
  },
  {
   "cell_type": "markdown",
   "metadata": {
    "id": "WZxMe1hRn1uc"
   },
   "source": [
    "# Customer Behavior Insights :\r",
    "-  **Analyze Rolling Metrics:** Delve into rolling metrics like recency, product diversity, and order size variability for deeper customer insights.\r\n",
    "- **Churn Analysis:** Define and analyze customer churn with custom logic to identify customers at risk of lapsing.\r\n",
    "- **Visualize Model Outputs:** Create visualizations of model outputs for an intuitive understanding of customer behavior and model accuracy.\r\n"
   ]
  },
  {
   "cell_type": "code",
   "execution_count": null,
   "metadata": {
    "id": "kLAgXsX9n1ud"
   },
   "outputs": [],
   "source": [
    "# Calculate the days between orders for each customer\n",
    "transaction_data['prev_order_date'] = transaction_data.sort_values(by=['client_id', 'date_order']).groupby('client_id')['date_order'].shift(1)\n",
    "transaction_data['days_between_orders'] = (transaction_data['date_order'] - transaction_data['prev_order_date']).dt.days\n",
    "\n",
    "# Calculate rolling average of days between orders for the last 3 purchases\n",
    "transaction_data['rolling_recency'] = transaction_data.groupby('client_id')['days_between_orders'].transform(lambda x: x.rolling(window=3, min_periods=1).mean())"
   ]
  },
  {
   "cell_type": "code",
   "execution_count": null,
   "metadata": {
    "id": "Inlee8K7n1ud"
   },
   "outputs": [],
   "source": [
    "product_diversity = transaction_data.groupby('client_id')['product_id'].nunique().reset_index(name='product_diversity')\n"
   ]
  },
  {
   "cell_type": "code",
   "execution_count": null,
   "metadata": {
    "id": "bQNGp1Hwn1ud"
   },
   "outputs": [],
   "source": [
    "transaction_data['order_size_variability'] = transaction_data.groupby('client_id')['quantity'].transform('std')"
   ]
  },
  {
   "cell_type": "code",
   "execution_count": null,
   "metadata": {
    "id": "3OdqPWOun1ue"
   },
   "outputs": [],
   "source": [
    "# Merge product_diversity into RFM\n",
    "rfm = rfm.merge(product_diversity, on='client_id', how='left')\n",
    "\n",
    "# Calculate order size variability for each client and merge\n",
    "order_size_variability = transaction_data.groupby('client_id')['order_size_variability'].mean().reset_index(name='order_size_variability')\n",
    "rfm = rfm.merge(order_size_variability, on='client_id', how='left')\n",
    "\n",
    "# Merge rolling recency into RFM\n",
    "rolling_recency = transaction_data.groupby('client_id')['rolling_recency'].mean().reset_index(name='rolling_recency')\n",
    "rfm = rfm.merge(rolling_recency, on='client_id', how='left')\n"
   ]
  },
  {
   "cell_type": "code",
   "execution_count": null,
   "metadata": {
    "id": "YITjGa-Wn1ue",
    "outputId": "3c14e95e-f45d-4524-e248-b9d314063c23"
   },
   "outputs": [
    {
     "data": {
      "text/plain": [
       "Index(['client_id', 'frequency', 'recency', 'T', 'monetary_value',\n",
       "       'alive_probability', 'RecencyScore', 'FrequencyScore', 'MonetaryScore',\n",
       "       'RFM_Segment', 'RFM_Score', 'RFM_Level', 'predicted_purchases', 'clv',\n",
       "       'product_diversity', 'order_size_variability', 'rolling_recency',\n",
       "       'days_since_last_major', 'most_common_purchase_month'],\n",
       "      dtype='object')"
      ]
     },
     "execution_count": 39,
     "metadata": {},
     "output_type": "execute_result"
    }
   ],
   "source": [
    "rfm.columns"
   ]
  },
  {
   "cell_type": "code",
   "execution_count": null,
   "metadata": {
    "id": "OgDAoAvln1ue"
   },
   "outputs": [],
   "source": [
    "# Assuming a major purchase is defined as being in the top 10% of `sales_net` for this customer\n",
    "major_purchase_threshold = transaction_data.groupby('client_id')['sales_net'].transform(lambda x: x.quantile(0.9))\n",
    "transaction_data['major_purchase_flag'] = (transaction_data['sales_net'] >= major_purchase_threshold).astype(int)\n",
    "transaction_data['date_last_major_purchase'] = transaction_data[transaction_data['major_purchase_flag'] == 1].groupby('client_id')['date_order'].transform('max')\n",
    "transaction_data['days_since_last_major'] = (pd.to_datetime('today') - transaction_data['date_last_major_purchase']).dt.days\n"
   ]
  },
  {
   "cell_type": "code",
   "execution_count": null,
   "metadata": {
    "id": "s_4m_Ciwn1ue"
   },
   "outputs": [],
   "source": [
    "transaction_data['month'] = transaction_data['date_order'].dt.month\n"
   ]
  },
  {
   "cell_type": "code",
   "execution_count": null,
   "metadata": {
    "id": "wbHwSDajn1uh"
   },
   "outputs": [],
   "source": [
    "# Aggregate to get the most recent value for each client\n",
    "days_since_last_major = transaction_data.groupby('client_id')['days_since_last_major'].last().reset_index()\n",
    "\n",
    "# Merge this with the RFM table\n",
    "rfm = rfm.merge(days_since_last_major, on='client_id', how='left')"
   ]
  },
  {
   "cell_type": "code",
   "execution_count": null,
   "metadata": {
    "id": "dnFjBeRHn1uh"
   },
   "outputs": [],
   "source": [
    "# Calculate the most common purchase month for each customer\n",
    "most_common_month = transaction_data.groupby('client_id')['month'].agg(lambda x: x.mode()[0]).reset_index(name='most_common_purchase_month')\n",
    "\n",
    "# Merge this with the RFM table\n",
    "rfm = rfm.merge(most_common_month, on='client_id', how='left')"
   ]
  },
  {
   "cell_type": "code",
   "execution_count": null,
   "metadata": {
    "id": "uXqEXQ2qn1uh",
    "outputId": "207d2a93-998b-40fb-bc4f-de4972304343"
   },
   "outputs": [
    {
     "name": "stdout",
     "output_type": "stream",
     "text": [
      "Rolling Recency Stats:\n",
      " count    164277.000000\n",
      "mean         13.660090\n",
      "std          33.536861\n",
      "min           0.000000\n",
      "25%           1.028571\n",
      "50%           4.229730\n",
      "75%          13.083333\n",
      "max         715.000000\n",
      "Name: rolling_recency, dtype: float64\n"
     ]
    }
   ],
   "source": [
    "rolling_recency_stats = rfm['rolling_recency'].describe()\n",
    "print(\"Rolling Recency Stats:\\n\", rolling_recency_stats)"
   ]
  },
  {
   "cell_type": "code",
   "execution_count": null,
   "metadata": {
    "id": "O2yXpWPsn1uh",
    "outputId": "4e47c08e-dfba-4ed4-d11b-02d9cc965188"
   },
   "outputs": [
    {
     "name": "stdout",
     "output_type": "stream",
     "text": [
      "Product Diversity Stats:\n",
      " count    170586.000000\n",
      "mean        155.692425\n",
      "std         396.217324\n",
      "min           1.000000\n",
      "25%           9.000000\n",
      "50%          35.000000\n",
      "75%         134.000000\n",
      "max       30812.000000\n",
      "Name: product_diversity, dtype: float64\n"
     ]
    }
   ],
   "source": [
    "product_diversity_stats = rfm['product_diversity'].describe()\n",
    "print(\"Product Diversity Stats:\\n\", product_diversity_stats)"
   ]
  },
  {
   "cell_type": "code",
   "execution_count": null,
   "metadata": {
    "id": "8Ky0YXmNn1ui",
    "outputId": "5ca38bbf-c0b9-4b52-d07d-0dc22a9b06ca"
   },
   "outputs": [
    {
     "name": "stdout",
     "output_type": "stream",
     "text": [
      "Order Size Variability Stats:\n",
      " count    164277.000000\n",
      "mean        180.986675\n",
      "std         907.217135\n",
      "min           0.000000\n",
      "25%          22.379412\n",
      "50%          65.846068\n",
      "75%         144.082603\n",
      "max       81685.041993\n",
      "Name: order_size_variability, dtype: float64\n"
     ]
    }
   ],
   "source": [
    "order_size_variability_stats = rfm['order_size_variability'].describe()\n",
    "print(\"Order Size Variability Stats:\\n\", order_size_variability_stats)\n"
   ]
  },
  {
   "cell_type": "code",
   "execution_count": null,
   "metadata": {
    "id": "-CmU4nm0n1uj",
    "outputId": "dec76030-af0d-47ba-9cfc-3c9adcb93236"
   },
   "outputs": [
    {
     "name": "stdout",
     "output_type": "stream",
     "text": [
      "Days Since Last Major Purchase Stats:\n",
      " count    170586.000000\n",
      "mean       1836.855463\n",
      "std         217.224486\n",
      "min        1629.000000\n",
      "25%        1655.000000\n",
      "50%        1733.000000\n",
      "75%        1985.000000\n",
      "max        2356.000000\n",
      "Name: days_since_last_major, dtype: float64\n"
     ]
    }
   ],
   "source": [
    "days_since_last_major_stats = rfm['days_since_last_major'].describe()\n",
    "print(\"Days Since Last Major Purchase Stats:\\n\", days_since_last_major_stats)\n"
   ]
  },
  {
   "cell_type": "markdown",
   "metadata": {
    "id": "pnBbjKT4n1uj"
   },
   "source": [
    "## INSIGHTS FOR CUSTOMER BEHAVIOUR"
   ]
  },
  {
   "cell_type": "code",
   "execution_count": null,
   "metadata": {
    "id": "XadGQhunn1uj",
    "outputId": "4febfd52-18a8-4d90-fa78-d183e8dac7cb"
   },
   "outputs": [
    {
     "data": {
      "text/html": [
       "<div>\n",
       "<style scoped>\n",
       "    .dataframe tbody tr th:only-of-type {\n",
       "        vertical-align: middle;\n",
       "    }\n",
       "\n",
       "    .dataframe tbody tr th {\n",
       "        vertical-align: top;\n",
       "    }\n",
       "\n",
       "    .dataframe thead th {\n",
       "        text-align: right;\n",
       "    }\n",
       "</style>\n",
       "<table border=\"1\" class=\"dataframe\">\n",
       "  <thead>\n",
       "    <tr style=\"text-align: right;\">\n",
       "      <th></th>\n",
       "      <th>client_id</th>\n",
       "      <th>frequency</th>\n",
       "      <th>recency</th>\n",
       "      <th>T</th>\n",
       "      <th>monetary_value</th>\n",
       "      <th>alive_probability</th>\n",
       "      <th>RecencyScore</th>\n",
       "      <th>FrequencyScore</th>\n",
       "      <th>MonetaryScore</th>\n",
       "      <th>RFM_Segment</th>\n",
       "      <th>...</th>\n",
       "      <th>RFM_Level</th>\n",
       "      <th>predicted_purchases</th>\n",
       "      <th>clv</th>\n",
       "      <th>product_diversity</th>\n",
       "      <th>order_size_variability</th>\n",
       "      <th>rolling_recency</th>\n",
       "      <th>days_since_last_major</th>\n",
       "      <th>most_common_purchase_month</th>\n",
       "      <th>segment_specific_risk_of_churn</th>\n",
       "      <th>churned</th>\n",
       "    </tr>\n",
       "  </thead>\n",
       "  <tbody>\n",
       "    <tr>\n",
       "      <th>0</th>\n",
       "      <td>6</td>\n",
       "      <td>8.0</td>\n",
       "      <td>21.580645</td>\n",
       "      <td>22.580645</td>\n",
       "      <td>565.517890</td>\n",
       "      <td>0.997355</td>\n",
       "      <td>2</td>\n",
       "      <td>3</td>\n",
       "      <td>3</td>\n",
       "      <td>233</td>\n",
       "      <td>...</td>\n",
       "      <td>Need Attention</td>\n",
       "      <td>11.001609</td>\n",
       "      <td>7.078255e+04</td>\n",
       "      <td>37</td>\n",
       "      <td>183.530609</td>\n",
       "      <td>16.572650</td>\n",
       "      <td>1691.0</td>\n",
       "      <td>7</td>\n",
       "      <td>0</td>\n",
       "      <td>0</td>\n",
       "    </tr>\n",
       "    <tr>\n",
       "      <th>1</th>\n",
       "      <td>7</td>\n",
       "      <td>1.0</td>\n",
       "      <td>4.935484</td>\n",
       "      <td>13.774194</td>\n",
       "      <td>481.204467</td>\n",
       "      <td>0.835826</td>\n",
       "      <td>4</td>\n",
       "      <td>1</td>\n",
       "      <td>2</td>\n",
       "      <td>412</td>\n",
       "      <td>...</td>\n",
       "      <td>At Risk</td>\n",
       "      <td>3.540429</td>\n",
       "      <td>2.482326e+04</td>\n",
       "      <td>10</td>\n",
       "      <td>4.792852</td>\n",
       "      <td>11.500000</td>\n",
       "      <td>2065.0</td>\n",
       "      <td>12</td>\n",
       "      <td>1</td>\n",
       "      <td>0</td>\n",
       "    </tr>\n",
       "    <tr>\n",
       "      <th>2</th>\n",
       "      <td>14</td>\n",
       "      <td>24.0</td>\n",
       "      <td>23.548387</td>\n",
       "      <td>23.548387</td>\n",
       "      <td>130417.780708</td>\n",
       "      <td>0.999424</td>\n",
       "      <td>1</td>\n",
       "      <td>5</td>\n",
       "      <td>5</td>\n",
       "      <td>155</td>\n",
       "      <td>...</td>\n",
       "      <td>Champions</td>\n",
       "      <td>28.788159</td>\n",
       "      <td>4.185417e+07</td>\n",
       "      <td>4898</td>\n",
       "      <td>422.643638</td>\n",
       "      <td>0.056888</td>\n",
       "      <td>1634.0</td>\n",
       "      <td>7</td>\n",
       "      <td>1</td>\n",
       "      <td>0</td>\n",
       "    </tr>\n",
       "    <tr>\n",
       "      <th>3</th>\n",
       "      <td>18</td>\n",
       "      <td>24.0</td>\n",
       "      <td>23.548387</td>\n",
       "      <td>23.548387</td>\n",
       "      <td>10205.089998</td>\n",
       "      <td>0.999424</td>\n",
       "      <td>1</td>\n",
       "      <td>5</td>\n",
       "      <td>5</td>\n",
       "      <td>155</td>\n",
       "      <td>...</td>\n",
       "      <td>Champions</td>\n",
       "      <td>28.788159</td>\n",
       "      <td>3.275095e+06</td>\n",
       "      <td>786</td>\n",
       "      <td>95.638674</td>\n",
       "      <td>0.322692</td>\n",
       "      <td>1644.0</td>\n",
       "      <td>1</td>\n",
       "      <td>0</td>\n",
       "      <td>0</td>\n",
       "    </tr>\n",
       "    <tr>\n",
       "      <th>4</th>\n",
       "      <td>25</td>\n",
       "      <td>0.0</td>\n",
       "      <td>0.000000</td>\n",
       "      <td>10.806452</td>\n",
       "      <td>0.000000</td>\n",
       "      <td>1.000000</td>\n",
       "      <td>5</td>\n",
       "      <td>1</td>\n",
       "      <td>1</td>\n",
       "      <td>511</td>\n",
       "      <td>...</td>\n",
       "      <td>At Risk</td>\n",
       "      <td>NaN</td>\n",
       "      <td>NaN</td>\n",
       "      <td>4</td>\n",
       "      <td>27.712813</td>\n",
       "      <td>0.000000</td>\n",
       "      <td>1979.0</td>\n",
       "      <td>10</td>\n",
       "      <td>1</td>\n",
       "      <td>0</td>\n",
       "    </tr>\n",
       "    <tr>\n",
       "      <th>...</th>\n",
       "      <td>...</td>\n",
       "      <td>...</td>\n",
       "      <td>...</td>\n",
       "      <td>...</td>\n",
       "      <td>...</td>\n",
       "      <td>...</td>\n",
       "      <td>...</td>\n",
       "      <td>...</td>\n",
       "      <td>...</td>\n",
       "      <td>...</td>\n",
       "      <td>...</td>\n",
       "      <td>...</td>\n",
       "      <td>...</td>\n",
       "      <td>...</td>\n",
       "      <td>...</td>\n",
       "      <td>...</td>\n",
       "      <td>...</td>\n",
       "      <td>...</td>\n",
       "      <td>...</td>\n",
       "      <td>...</td>\n",
       "      <td>...</td>\n",
       "    </tr>\n",
       "    <tr>\n",
       "      <th>170581</th>\n",
       "      <td>2274456</td>\n",
       "      <td>1.0</td>\n",
       "      <td>1.000000</td>\n",
       "      <td>1.000000</td>\n",
       "      <td>596.549160</td>\n",
       "      <td>0.969033</td>\n",
       "      <td>5</td>\n",
       "      <td>2</td>\n",
       "      <td>3</td>\n",
       "      <td>523</td>\n",
       "      <td>...</td>\n",
       "      <td>Potential Loyalist</td>\n",
       "      <td>17.968324</td>\n",
       "      <td>1.554267e+05</td>\n",
       "      <td>16</td>\n",
       "      <td>67.899914</td>\n",
       "      <td>0.469697</td>\n",
       "      <td>1652.0</td>\n",
       "      <td>8</td>\n",
       "      <td>1</td>\n",
       "      <td>0</td>\n",
       "    </tr>\n",
       "    <tr>\n",
       "      <th>170582</th>\n",
       "      <td>2274479</td>\n",
       "      <td>1.0</td>\n",
       "      <td>15.741935</td>\n",
       "      <td>22.580645</td>\n",
       "      <td>341.471800</td>\n",
       "      <td>0.936932</td>\n",
       "      <td>3</td>\n",
       "      <td>2</td>\n",
       "      <td>2</td>\n",
       "      <td>322</td>\n",
       "      <td>...</td>\n",
       "      <td>At Risk</td>\n",
       "      <td>2.595762</td>\n",
       "      <td>1.297293e+04</td>\n",
       "      <td>5</td>\n",
       "      <td>1.699673</td>\n",
       "      <td>53.888889</td>\n",
       "      <td>1839.0</td>\n",
       "      <td>10</td>\n",
       "      <td>1</td>\n",
       "      <td>0</td>\n",
       "    </tr>\n",
       "    <tr>\n",
       "      <th>170583</th>\n",
       "      <td>2274504</td>\n",
       "      <td>1.0</td>\n",
       "      <td>13.741935</td>\n",
       "      <td>21.580645</td>\n",
       "      <td>24.771000</td>\n",
       "      <td>0.925712</td>\n",
       "      <td>3</td>\n",
       "      <td>2</td>\n",
       "      <td>1</td>\n",
       "      <td>321</td>\n",
       "      <td>...</td>\n",
       "      <td>At Risk</td>\n",
       "      <td>2.669444</td>\n",
       "      <td>1.080415e+03</td>\n",
       "      <td>4</td>\n",
       "      <td>1.000000</td>\n",
       "      <td>47.222222</td>\n",
       "      <td>2321.0</td>\n",
       "      <td>11</td>\n",
       "      <td>1</td>\n",
       "      <td>0</td>\n",
       "    </tr>\n",
       "    <tr>\n",
       "      <th>170584</th>\n",
       "      <td>2274508</td>\n",
       "      <td>0.0</td>\n",
       "      <td>0.000000</td>\n",
       "      <td>22.580645</td>\n",
       "      <td>0.000000</td>\n",
       "      <td>1.000000</td>\n",
       "      <td>5</td>\n",
       "      <td>1</td>\n",
       "      <td>1</td>\n",
       "      <td>511</td>\n",
       "      <td>...</td>\n",
       "      <td>At Risk</td>\n",
       "      <td>NaN</td>\n",
       "      <td>NaN</td>\n",
       "      <td>4</td>\n",
       "      <td>44.756484</td>\n",
       "      <td>0.000000</td>\n",
       "      <td>2336.0</td>\n",
       "      <td>10</td>\n",
       "      <td>1</td>\n",
       "      <td>0</td>\n",
       "    </tr>\n",
       "    <tr>\n",
       "      <th>170585</th>\n",
       "      <td>2274517</td>\n",
       "      <td>15.0</td>\n",
       "      <td>21.580645</td>\n",
       "      <td>22.580645</td>\n",
       "      <td>1056.891610</td>\n",
       "      <td>0.998193</td>\n",
       "      <td>2</td>\n",
       "      <td>4</td>\n",
       "      <td>3</td>\n",
       "      <td>243</td>\n",
       "      <td>...</td>\n",
       "      <td>Potential Loyalist</td>\n",
       "      <td>19.252171</td>\n",
       "      <td>2.281647e+05</td>\n",
       "      <td>33</td>\n",
       "      <td>67.695690</td>\n",
       "      <td>8.654321</td>\n",
       "      <td>1894.0</td>\n",
       "      <td>6</td>\n",
       "      <td>1</td>\n",
       "      <td>0</td>\n",
       "    </tr>\n",
       "  </tbody>\n",
       "</table>\n",
       "<p>170586 rows × 21 columns</p>\n",
       "</div>"
      ],
      "text/plain": [
       "        client_id  frequency    recency          T  monetary_value  \\\n",
       "0               6        8.0  21.580645  22.580645      565.517890   \n",
       "1               7        1.0   4.935484  13.774194      481.204467   \n",
       "2              14       24.0  23.548387  23.548387   130417.780708   \n",
       "3              18       24.0  23.548387  23.548387    10205.089998   \n",
       "4              25        0.0   0.000000  10.806452        0.000000   \n",
       "...           ...        ...        ...        ...             ...   \n",
       "170581    2274456        1.0   1.000000   1.000000      596.549160   \n",
       "170582    2274479        1.0  15.741935  22.580645      341.471800   \n",
       "170583    2274504        1.0  13.741935  21.580645       24.771000   \n",
       "170584    2274508        0.0   0.000000  22.580645        0.000000   \n",
       "170585    2274517       15.0  21.580645  22.580645     1056.891610   \n",
       "\n",
       "        alive_probability RecencyScore FrequencyScore MonetaryScore  \\\n",
       "0                0.997355            2              3             3   \n",
       "1                0.835826            4              1             2   \n",
       "2                0.999424            1              5             5   \n",
       "3                0.999424            1              5             5   \n",
       "4                1.000000            5              1             1   \n",
       "...                   ...          ...            ...           ...   \n",
       "170581           0.969033            5              2             3   \n",
       "170582           0.936932            3              2             2   \n",
       "170583           0.925712            3              2             1   \n",
       "170584           1.000000            5              1             1   \n",
       "170585           0.998193            2              4             3   \n",
       "\n",
       "       RFM_Segment  ...           RFM_Level predicted_purchases           clv  \\\n",
       "0              233  ...      Need Attention           11.001609  7.078255e+04   \n",
       "1              412  ...             At Risk            3.540429  2.482326e+04   \n",
       "2              155  ...           Champions           28.788159  4.185417e+07   \n",
       "3              155  ...           Champions           28.788159  3.275095e+06   \n",
       "4              511  ...             At Risk                 NaN           NaN   \n",
       "...            ...  ...                 ...                 ...           ...   \n",
       "170581         523  ...  Potential Loyalist           17.968324  1.554267e+05   \n",
       "170582         322  ...             At Risk            2.595762  1.297293e+04   \n",
       "170583         321  ...             At Risk            2.669444  1.080415e+03   \n",
       "170584         511  ...             At Risk                 NaN           NaN   \n",
       "170585         243  ...  Potential Loyalist           19.252171  2.281647e+05   \n",
       "\n",
       "        product_diversity  order_size_variability  rolling_recency  \\\n",
       "0                      37              183.530609        16.572650   \n",
       "1                      10                4.792852        11.500000   \n",
       "2                    4898              422.643638         0.056888   \n",
       "3                     786               95.638674         0.322692   \n",
       "4                       4               27.712813         0.000000   \n",
       "...                   ...                     ...              ...   \n",
       "170581                 16               67.899914         0.469697   \n",
       "170582                  5                1.699673        53.888889   \n",
       "170583                  4                1.000000        47.222222   \n",
       "170584                  4               44.756484         0.000000   \n",
       "170585                 33               67.695690         8.654321   \n",
       "\n",
       "        days_since_last_major  most_common_purchase_month  \\\n",
       "0                      1691.0                           7   \n",
       "1                      2065.0                          12   \n",
       "2                      1634.0                           7   \n",
       "3                      1644.0                           1   \n",
       "4                      1979.0                          10   \n",
       "...                       ...                         ...   \n",
       "170581                 1652.0                           8   \n",
       "170582                 1839.0                          10   \n",
       "170583                 2321.0                          11   \n",
       "170584                 2336.0                          10   \n",
       "170585                 1894.0                           6   \n",
       "\n",
       "        segment_specific_risk_of_churn  churned  \n",
       "0                                    0        0  \n",
       "1                                    1        0  \n",
       "2                                    1        0  \n",
       "3                                    0        0  \n",
       "4                                    1        0  \n",
       "...                                ...      ...  \n",
       "170581                               1        0  \n",
       "170582                               1        0  \n",
       "170583                               1        0  \n",
       "170584                               1        0  \n",
       "170585                               1        0  \n",
       "\n",
       "[170586 rows x 21 columns]"
      ]
     },
     "execution_count": 45,
     "metadata": {},
     "output_type": "execute_result"
    }
   ],
   "source": [
    "rfm"
   ]
  },
  {
   "cell_type": "code",
   "execution_count": null,
   "metadata": {
    "id": "bhy5Oh3Fn1uj",
    "outputId": "8676690f-17c0-4015-df44-7caa76b3659c"
   },
   "outputs": [
    {
     "data": {
      "text/plain": [
       "Index(['date_order', 'date_invoice', 'product_id', 'client_id', 'sales_net',\n",
       "       'quantity', 'order_channel', 'branch_id', 'prev_order_date',\n",
       "       'days_between_orders', 'rolling_recency', 'order_size_variability',\n",
       "       'major_purchase_flag', 'date_last_major_purchase',\n",
       "       'days_since_last_major', 'month'],\n",
       "      dtype='object')"
      ]
     },
     "execution_count": 46,
     "metadata": {},
     "output_type": "execute_result"
    }
   ],
   "source": [
    "transaction_data.columns"
   ]
  },
  {
   "cell_type": "code",
   "execution_count": null,
   "metadata": {
    "id": "ZBflH2W0n1uj",
    "outputId": "c585cc4f-714e-4ae3-9569-dbe6a5a69989"
   },
   "outputs": [
    {
     "name": "stdout",
     "output_type": "stream",
     "text": [
      "RFM_Level  At Risk     Champions  Hibernating  Need Attention  \\\n",
      "month                                                           \n",
      "1          17867.5  2.240470e+06        166.5    40901.500000   \n",
      "2          15896.0  2.106236e+06        149.0    36933.500000   \n",
      "3          18435.0  2.519396e+06        113.5    42349.500000   \n",
      "4          14823.0  2.064108e+06        100.0    33338.000000   \n",
      "5          13144.0  1.782942e+06         96.0    32292.500000   \n",
      "6          18904.5  2.317742e+06        107.5    42861.500000   \n",
      "7          22503.0  2.533579e+06        202.0    47869.000000   \n",
      "8          29606.5  2.715726e+06        316.5    54920.000000   \n",
      "9          16668.0  1.184334e+06        294.0    27289.666667   \n",
      "10         31963.0  2.509286e+06        498.0    58924.000000   \n",
      "11         24122.5  2.378870e+06        311.0    50358.000000   \n",
      "12         20473.5  2.268060e+06        208.5    44367.500000   \n",
      "\n",
      "RFM_Level  Potential Loyalist  \n",
      "month                          \n",
      "1                    300913.5  \n",
      "2                    272562.5  \n",
      "3                    320375.0  \n",
      "4                    251682.0  \n",
      "5                    227803.0  \n",
      "6                    305623.5  \n",
      "7                    337638.0  \n",
      "8                    374047.0  \n",
      "9                    168626.0  \n",
      "10                   374654.5  \n",
      "11                   335141.5  \n",
      "12                   311861.0  \n"
     ]
    }
   ],
   "source": [
    "# Ensure the 'date_order' column is the correct datetime format\n",
    "transaction_data['date_order'] = pd.to_datetime(transaction_data['date_order'])\n",
    "transaction_data['month'] = transaction_data['date_order'].dt.month\n",
    "transaction_data['year'] = transaction_data['date_order'].dt.year\n",
    "\n",
    "# Merge the transaction data with RFM levels to get RFM_Level for each transaction\n",
    "merged_data = pd.merge(transaction_data, rfm[['client_id', 'RFM_Level']], on='client_id', how='left')\n",
    "\n",
    "# Calculate the number of transactions per month for each RFM Level\n",
    "monthly_transactions_by_RFM = merged_data.groupby(['year', 'month', 'RFM_Level']).size().reset_index(name='transactions')\n",
    "\n",
    "# Calculate average transactions per month for each RFM Level\n",
    "average_monthly_transactions_by_RFM = monthly_transactions_by_RFM.groupby(['month', 'RFM_Level'])['transactions'].mean().unstack()\n",
    "\n",
    "print(average_monthly_transactions_by_RFM)\n"
   ]
  },
  {
   "cell_type": "code",
   "execution_count": null,
   "metadata": {
    "id": "hE2VN7YIn1uj",
    "outputId": "45a84667-e489-45b1-c727-7381219145b4"
   },
   "outputs": [
    {
     "name": "stdout",
     "output_type": "stream",
     "text": [
      "                      count       mean       std   min   25%   50%   75%   max\n",
      "RFM_Level                                                                     \n",
      "At Risk             43581.0   6.905899  0.291972   6.0   7.0   7.0   7.0   7.0\n",
      "Champions           44832.0  11.292849  0.501302  11.0  11.0  11.0  12.0  13.0\n",
      "Hibernating           608.0   4.929276  0.262916   3.0   5.0   5.0   5.0   5.0\n",
      "Need Attention      26417.0   8.000000  0.000000   8.0   8.0   8.0   8.0   8.0\n",
      "Potential Loyalist  55148.0   9.490281  0.499910   9.0   9.0   9.0  10.0  10.0\n"
     ]
    }
   ],
   "source": [
    "# Descriptive statistics for RFM Scores within each RFM Level\n",
    "rfm_scores_summary_by_level = rfm.groupby('RFM_Level')['RFM_Score'].describe()\n",
    "\n",
    "print(rfm_scores_summary_by_level)\n"
   ]
  },
  {
   "cell_type": "code",
   "execution_count": null,
   "metadata": {
    "id": "X8vV7xjln1uj",
    "outputId": "368bfd99-69ca-4e22-ce25-674d55cdc945"
   },
   "outputs": [
    {
     "name": "stdout",
     "output_type": "stream",
     "text": [
      "             recency      frequency  monetary_value  product_diversity  \\\n",
      "count  170586.000000  170586.000000    1.705860e+05      170586.000000   \n",
      "mean       13.891632       9.266323    3.128761e+03         155.692425   \n",
      "std         8.883959       8.469041    1.207824e+04         396.217324   \n",
      "min         0.000000       0.000000    0.000000e+00           1.000000   \n",
      "25%         4.935484       2.000000    2.306658e+02           9.000000   \n",
      "50%        16.709677       6.000000    7.951239e+02          35.000000   \n",
      "75%        22.548387      17.000000    2.320942e+03         134.000000   \n",
      "max        23.548387      24.000000    1.679492e+06       30812.000000   \n",
      "\n",
      "       order_size_variability  rolling_recency  days_since_last_major  \n",
      "count           164277.000000    164277.000000          170586.000000  \n",
      "mean               180.986675        13.660090            1836.855463  \n",
      "std                907.217135        33.536861             217.224486  \n",
      "min                  0.000000         0.000000            1629.000000  \n",
      "25%                 22.379412         1.028571            1655.000000  \n",
      "50%                 65.846068         4.229730            1733.000000  \n",
      "75%                144.082603        13.083333            1985.000000  \n",
      "max              81685.041993       715.000000            2356.000000  \n"
     ]
    }
   ],
   "source": [
    "# Basic descriptive statistics for key metrics\n",
    "rfm_descriptive_stats = rfm[['recency', 'frequency', 'monetary_value', 'product_diversity', 'order_size_variability', 'rolling_recency', 'days_since_last_major']].describe()\n",
    "\n",
    "print(rfm_descriptive_stats)\n"
   ]
  },
  {
   "cell_type": "code",
   "execution_count": null,
   "metadata": {
    "id": "WkvbRnlFn1uj",
    "outputId": "9de748e9-1aac-4194-cfe1-0f4830aa7233"
   },
   "outputs": [
    {
     "name": "stdout",
     "output_type": "stream",
     "text": [
      "    year  month  order_size  pct_change\n",
      "0   2017      9   22.500136         NaN\n",
      "1   2017     10   22.642379    0.632184\n",
      "2   2017     11   22.885400    1.073304\n",
      "3   2017     12   23.113769    0.997880\n",
      "4   2018      1   22.996740   -0.506316\n",
      "5   2018      2   23.135897    0.605114\n",
      "6   2018      3   23.575962    1.902086\n",
      "7   2018      4   22.849410   -3.081748\n",
      "8   2018      5   22.026064   -3.603356\n",
      "9   2018      6   23.188259    5.276454\n",
      "10  2018      7   24.102142    3.941145\n",
      "11  2018      8   24.297173    0.809183\n",
      "12  2018      9   23.922444   -1.542274\n",
      "13  2018     10   23.508790   -1.729144\n",
      "14  2018     11   23.194828   -1.335512\n",
      "15  2018     12   23.417467    0.959868\n",
      "16  2019      1   23.053438   -1.554520\n",
      "17  2019      2   23.789972    3.194901\n",
      "18  2019      3   24.940364    4.835614\n",
      "19  2019      4   23.533711   -5.640065\n",
      "20  2019      5   22.575951   -4.069737\n",
      "21  2019      6   24.368841    7.941595\n",
      "22  2019      7   24.656128    1.178911\n",
      "23  2019      8   25.558169    3.658484\n",
      "24  2019      9   25.182751   -1.468875\n"
     ]
    }
   ],
   "source": [
    "# Calculate the average order size for each transaction\n",
    "transaction_data['order_size'] = transaction_data['sales_net'] / transaction_data['quantity']\n",
    "\n",
    "# Calculate the average order size by month and year\n",
    "average_order_size_by_month_year = transaction_data.groupby(['year', 'month'])['order_size'].mean().reset_index()\n",
    "\n",
    "# Optionally, calculate the month-over-month percentage change in average order size\n",
    "average_order_size_by_month_year['pct_change'] = average_order_size_by_month_year['order_size'].pct_change() * 100\n",
    "\n",
    "print(average_order_size_by_month_year)\n"
   ]
  },
  {
   "cell_type": "markdown",
   "metadata": {
    "id": "ktnQ8vRnn1uk"
   },
   "source": [
    "## NEW CHURN DEFINITION"
   ]
  },
  {
   "cell_type": "code",
   "execution_count": null,
   "metadata": {
    "id": "UvndZvIan1uk"
   },
   "outputs": [],
   "source": [
    "def define_risk_of_churn_with_segments(row):\n",
    "    \"\"\"\n",
    "    Defines the risk of churn based on observed behaviors, seasonality, alive probability,\n",
    "    and tailored to specific RFM segments for targeted marketing strategies.\n",
    "    \"\"\"\n",
    "    # Common conditions across all segments\n",
    "    common_conditions = [\n",
    "        row['most_common_purchase_month'] in [6, 7, 8, 10, 11],  # High-activity months\n",
    "        row['alive_probability'] < 0.5  # General alive probability threshold\n",
    "    ]\n",
    "\n",
    "    # Segment-specific adjustments\n",
    "    if row['RFM_Level'] == 'Champions':\n",
    "        # Champions might be given a higher threshold for engagement due to their value\n",
    "        return 1 if row['rolling_recency'] > 22 or any(common_conditions) else 0\n",
    "    elif row['RFM_Level'] == 'Potential Loyalist':\n",
    "        # Potential Loyalists showing signs of reduced diversity or high order variability might be at risk\n",
    "        return 1 if row['product_diversity'] < 9 or row['order_size_variability'] > 144.08 or any(common_conditions) else 0\n",
    "    elif row['RFM_Level'] in ['At Risk', 'Hibernating']:\n",
    "        # At Risk or Hibernating customers with extended periods since last major purchase signal churn risk\n",
    "        return 1 if row['days_since_last_major'] > 1985 or any(common_conditions) else 0\n",
    "    else:\n",
    "        # Default condition for other segments\n",
    "        return 0"
   ]
  },
  {
   "cell_type": "code",
   "execution_count": null,
   "metadata": {
    "id": "f3w4G4iCn1uk"
   },
   "outputs": [],
   "source": [
    "def enhanced_define_churn(row):\n",
    "    \"\"\"\n",
    "    Enhances the definition of churn based on recency, segment-specific behavior, and alive probability,\n",
    "    adjusted for time units and dynamics of the dataset.\n",
    "    \"\"\"\n",
    "    churn_threshold_months = 12  # Considering time units are in months\n",
    "    risk_indicator = 0.5  # Alive probability threshold\n",
    "\n",
    "    if row['alive_probability'] < risk_indicator and row['recency'] > churn_threshold_months:\n",
    "        return 1  # Considered churned\n",
    "    elif row['RFM_Level'] == 'Hibernating' and row['recency'] > churn_threshold_months:\n",
    "        return 1  # Extended inactivity in 'Hibernating' segment also indicates churn\n",
    "    else:\n",
    "        return 0  # Not churned\n"
   ]
  },
  {
   "cell_type": "code",
   "execution_count": null,
   "metadata": {
    "id": "IuKIMLiJn1uk"
   },
   "outputs": [],
   "source": [
    "def enhanced_define_churn(row, churn_threshold=365, risk_indicator=0.5):\n",
    "    \"\"\"\n",
    "    Enhances the definition of churn based on recency, segment-specific behavior, and alive probability.\n",
    "    \"\"\"\n",
    "    if row['alive_probability'] < risk_indicator and row['recency'] > churn_threshold:\n",
    "        return 1  # Considered churned\n",
    "    elif row['RFM_Level'] == 'Hibernating' and row['recency'] > churn_threshold:\n",
    "        return 1  # Extended inactivity in 'Hibernating' segment also indicates churn\n",
    "    else:\n",
    "        return 0  # Not churned"
   ]
  },
  {
   "cell_type": "code",
   "execution_count": null,
   "metadata": {
    "id": "ht8waYSen1uk"
   },
   "outputs": [],
   "source": [
    "# Apply the function to the RFM dataframe\n",
    "rfm['segment_specific_risk_of_churn'] = rfm.apply(define_risk_of_churn_with_segments, axis=1)"
   ]
  },
  {
   "cell_type": "code",
   "execution_count": null,
   "metadata": {
    "id": "YBsGgPprn1uk"
   },
   "outputs": [],
   "source": [
    "rfm['churned'] = rfm.apply(enhanced_define_churn, axis=1)"
   ]
  },
  {
   "cell_type": "code",
   "execution_count": null,
   "metadata": {
    "id": "a_gG0UqXn1uk",
    "outputId": "8e1d8134-4289-494c-dbcf-f27934a9c8ec"
   },
   "outputs": [
    {
     "name": "stdout",
     "output_type": "stream",
     "text": [
      "861\n",
      "169725\n",
      "0.005047307516443319\n",
      "0.5072912063632347\n"
     ]
    }
   ],
   "source": [
    "# number of 1 values in column 'churned'\n",
    "churned_count = rfm['churned'].sum()\n",
    "print(churned_count)\n",
    "\n",
    "# number of 0 values in column 'churned'\n",
    "not_churned_count = rfm.shape[0] - churned_count\n",
    "print(not_churned_count)\n",
    "\n",
    "# Calculate the churn rate\n",
    "churn_rate = churned_count / rfm.shape[0]\n",
    "print(churn_rate)\n",
    "\n",
    "# Percent of clients from all the unique clients that have churned\n",
    "churned_percent = churned_count / not_churned_count * 100\n",
    "print(churned_percent)\n"
   ]
  },
  {
   "cell_type": "code",
   "execution_count": null,
   "metadata": {
    "id": "ic8X_jtqn1uk",
    "outputId": "63fd37db-b682-4cb1-9d64-69a45d403c5d"
   },
   "outputs": [
    {
     "data": {
      "text/html": [
       "<div>\n",
       "<style scoped>\n",
       "    .dataframe tbody tr th:only-of-type {\n",
       "        vertical-align: middle;\n",
       "    }\n",
       "\n",
       "    .dataframe tbody tr th {\n",
       "        vertical-align: top;\n",
       "    }\n",
       "\n",
       "    .dataframe thead th {\n",
       "        text-align: right;\n",
       "    }\n",
       "</style>\n",
       "<table border=\"1\" class=\"dataframe\">\n",
       "  <thead>\n",
       "    <tr style=\"text-align: right;\">\n",
       "      <th></th>\n",
       "      <th>frequency</th>\n",
       "      <th>recency</th>\n",
       "      <th>T</th>\n",
       "      <th>monetary_value</th>\n",
       "      <th>alive_probability</th>\n",
       "      <th>predicted_purchases</th>\n",
       "      <th>clv</th>\n",
       "    </tr>\n",
       "  </thead>\n",
       "  <tbody>\n",
       "    <tr>\n",
       "      <th>count</th>\n",
       "      <td>170586.000000</td>\n",
       "      <td>170586.000000</td>\n",
       "      <td>170586.000000</td>\n",
       "      <td>1.705860e+05</td>\n",
       "      <td>170586.000000</td>\n",
       "      <td>145464.000000</td>\n",
       "      <td>1.454640e+05</td>\n",
       "    </tr>\n",
       "    <tr>\n",
       "      <th>mean</th>\n",
       "      <td>9.266323</td>\n",
       "      <td>13.891632</td>\n",
       "      <td>18.574500</td>\n",
       "      <td>3.128761e+03</td>\n",
       "      <td>0.939091</td>\n",
       "      <td>15.295252</td>\n",
       "      <td>9.510613e+05</td>\n",
       "    </tr>\n",
       "    <tr>\n",
       "      <th>std</th>\n",
       "      <td>8.469041</td>\n",
       "      <td>8.883959</td>\n",
       "      <td>6.372500</td>\n",
       "      <td>1.207824e+04</td>\n",
       "      <td>0.161086</td>\n",
       "      <td>9.314627</td>\n",
       "      <td>3.908714e+06</td>\n",
       "    </tr>\n",
       "    <tr>\n",
       "      <th>min</th>\n",
       "      <td>0.000000</td>\n",
       "      <td>0.000000</td>\n",
       "      <td>0.000000</td>\n",
       "      <td>0.000000e+00</td>\n",
       "      <td>0.091417</td>\n",
       "      <td>0.616290</td>\n",
       "      <td>3.606626e+01</td>\n",
       "    </tr>\n",
       "    <tr>\n",
       "      <th>25%</th>\n",
       "      <td>2.000000</td>\n",
       "      <td>4.935484</td>\n",
       "      <td>15.741935</td>\n",
       "      <td>2.306658e+02</td>\n",
       "      <td>0.982119</td>\n",
       "      <td>6.769261</td>\n",
       "      <td>4.104479e+04</td>\n",
       "    </tr>\n",
       "    <tr>\n",
       "      <th>50%</th>\n",
       "      <td>6.000000</td>\n",
       "      <td>16.709677</td>\n",
       "      <td>21.580645</td>\n",
       "      <td>7.951239e+02</td>\n",
       "      <td>0.997904</td>\n",
       "      <td>14.298115</td>\n",
       "      <td>1.521707e+05</td>\n",
       "    </tr>\n",
       "    <tr>\n",
       "      <th>75%</th>\n",
       "      <td>17.000000</td>\n",
       "      <td>22.548387</td>\n",
       "      <td>22.580645</td>\n",
       "      <td>2.320942e+03</td>\n",
       "      <td>0.999399</td>\n",
       "      <td>24.506176</td>\n",
       "      <td>6.029497e+05</td>\n",
       "    </tr>\n",
       "    <tr>\n",
       "      <th>max</th>\n",
       "      <td>24.000000</td>\n",
       "      <td>23.548387</td>\n",
       "      <td>23.548387</td>\n",
       "      <td>1.679492e+06</td>\n",
       "      <td>1.000000</td>\n",
       "      <td>28.788159</td>\n",
       "      <td>4.738493e+08</td>\n",
       "    </tr>\n",
       "  </tbody>\n",
       "</table>\n",
       "</div>"
      ],
      "text/plain": [
       "           frequency        recency              T  monetary_value  \\\n",
       "count  170586.000000  170586.000000  170586.000000    1.705860e+05   \n",
       "mean        9.266323      13.891632      18.574500    3.128761e+03   \n",
       "std         8.469041       8.883959       6.372500    1.207824e+04   \n",
       "min         0.000000       0.000000       0.000000    0.000000e+00   \n",
       "25%         2.000000       4.935484      15.741935    2.306658e+02   \n",
       "50%         6.000000      16.709677      21.580645    7.951239e+02   \n",
       "75%        17.000000      22.548387      22.580645    2.320942e+03   \n",
       "max        24.000000      23.548387      23.548387    1.679492e+06   \n",
       "\n",
       "       alive_probability  predicted_purchases           clv  \n",
       "count      170586.000000        145464.000000  1.454640e+05  \n",
       "mean            0.939091            15.295252  9.510613e+05  \n",
       "std             0.161086             9.314627  3.908714e+06  \n",
       "min             0.091417             0.616290  3.606626e+01  \n",
       "25%             0.982119             6.769261  4.104479e+04  \n",
       "50%             0.997904            14.298115  1.521707e+05  \n",
       "75%             0.999399            24.506176  6.029497e+05  \n",
       "max             1.000000            28.788159  4.738493e+08  "
      ]
     },
     "execution_count": 55,
     "metadata": {},
     "output_type": "execute_result"
    }
   ],
   "source": [
    "# rfm describe for only columns frequency, recency, T, monetary_value, alive_probability, predicted_purchases, clv\n",
    "rfm[['frequency', 'recency', 'T', 'monetary_value', 'alive_probability', 'predicted_purchases', 'clv']].describe()"
   ]
  },
  {
   "cell_type": "code",
   "execution_count": null,
   "metadata": {
    "id": "6i5yEpZRn1ul"
   },
   "outputs": [],
   "source": [
    "#save rfm to csv\n",
    "rfm.to_csv('rfm_SC.csv', index=False)"
   ]
  },
  {
   "cell_type": "markdown",
   "metadata": {
    "id": "eg5uFmkFn1ul"
   },
   "source": [
    "## DEFINING AND SETTING CHRUN COLUMN"
   ]
  },
  {
   "cell_type": "markdown",
   "metadata": {
    "id": "h94khr4On1ul"
   },
   "source": [
    "### Strategy for Defining Churn:\n",
    "\n",
    "Utilize recency and T for Inactivity: Since recency represents the age of a customer's last purchase and T the age of the customer in the dataset, we can infer inactivity. A customer who hasn't purchased recently relative to their overall age in the dataset may be at risk.\n",
    "\n",
    "Incorporate RFM_Level and alive_probability: As initially discussed, combining RFM segmentation with the 'alive' probability provides a nuanced view of customer engagement and future activity likelihood.\n",
    "\n"
   ]
  },
  {
   "cell_type": "code",
   "execution_count": null,
   "metadata": {
    "id": "paABPQIOn1ul",
    "outputId": "95d4ffe9-f18e-47f9-b43c-5e891f11df18"
   },
   "outputs": [
    {
     "name": "stdout",
     "output_type": "stream",
     "text": [
      "client_id                  0\n",
      "frequency                  0\n",
      "recency                    0\n",
      "T                          0\n",
      "monetary_value             0\n",
      "RecencyScore               0\n",
      "FrequencyScore             0\n",
      "MonetaryScore              0\n",
      "RFM_Segment                0\n",
      "RFM_Score                  0\n",
      "RFM_Level                  0\n",
      "alive_probability          0\n",
      "predicted_purchases    25122\n",
      "clv                    25122\n",
      "dtype: int64\n"
     ]
    }
   ],
   "source": [
    "# number of NaN values in each column\n",
    "print(rfm.isna().sum())"
   ]
  },
  {
   "cell_type": "code",
   "execution_count": null,
   "metadata": {
    "id": "e4vVIIbun1ul"
   },
   "outputs": [],
   "source": [
    "# Replace NaN values in 'clv' with 0\n",
    "rfm['clv'].fillna(0, inplace=True)\n",
    "\n",
    "# Replace NaN values in with 0\n",
    "rfm['predicted_purchases'] = rfm['predicted_purchases'].fillna(0)"
   ]
  },
  {
   "cell_type": "code",
   "execution_count": null,
   "metadata": {
    "id": "GOSxL3eXn1ul"
   },
   "outputs": [],
   "source": [
    "# save rfm table to csv file\n",
    "rfm.to_csv('rfm_table.csv', index=False)"
   ]
  },
  {
   "cell_type": "code",
   "execution_count": null,
   "metadata": {
    "id": "tZ8GCYKon1ul"
   },
   "outputs": [],
   "source": [
    "rfm = pd.read_csv('rfm_table.csv')"
   ]
  },
  {
   "cell_type": "code",
   "execution_count": null,
   "metadata": {
    "id": "PEBmifX4n1ul",
    "outputId": "f86be453-3ea8-4e9f-89f3-f25d8c1c047f"
   },
   "outputs": [
    {
     "data": {
      "text/html": [
       "<div>\n",
       "<style scoped>\n",
       "    .dataframe tbody tr th:only-of-type {\n",
       "        vertical-align: middle;\n",
       "    }\n",
       "\n",
       "    .dataframe tbody tr th {\n",
       "        vertical-align: top;\n",
       "    }\n",
       "\n",
       "    .dataframe thead th {\n",
       "        text-align: right;\n",
       "    }\n",
       "</style>\n",
       "<table border=\"1\" class=\"dataframe\">\n",
       "  <thead>\n",
       "    <tr style=\"text-align: right;\">\n",
       "      <th></th>\n",
       "      <th>client_id</th>\n",
       "      <th>frequency</th>\n",
       "      <th>recency</th>\n",
       "      <th>T</th>\n",
       "      <th>monetary_value</th>\n",
       "      <th>alive_probability</th>\n",
       "      <th>RecencyScore</th>\n",
       "      <th>FrequencyScore</th>\n",
       "      <th>MonetaryScore</th>\n",
       "      <th>RFM_Segment</th>\n",
       "      <th>...</th>\n",
       "      <th>RFM_Level</th>\n",
       "      <th>predicted_purchases</th>\n",
       "      <th>clv</th>\n",
       "      <th>product_diversity</th>\n",
       "      <th>order_size_variability</th>\n",
       "      <th>rolling_recency</th>\n",
       "      <th>days_since_last_major</th>\n",
       "      <th>most_common_purchase_month</th>\n",
       "      <th>segment_specific_risk_of_churn</th>\n",
       "      <th>churned</th>\n",
       "    </tr>\n",
       "  </thead>\n",
       "  <tbody>\n",
       "    <tr>\n",
       "      <th>0</th>\n",
       "      <td>6</td>\n",
       "      <td>8.0</td>\n",
       "      <td>21.580645</td>\n",
       "      <td>22.580645</td>\n",
       "      <td>565.517890</td>\n",
       "      <td>0.997355</td>\n",
       "      <td>2</td>\n",
       "      <td>3</td>\n",
       "      <td>3</td>\n",
       "      <td>233</td>\n",
       "      <td>...</td>\n",
       "      <td>Need Attention</td>\n",
       "      <td>11.001609</td>\n",
       "      <td>7.078255e+04</td>\n",
       "      <td>37</td>\n",
       "      <td>183.530609</td>\n",
       "      <td>16.572650</td>\n",
       "      <td>1691.0</td>\n",
       "      <td>7</td>\n",
       "      <td>0</td>\n",
       "      <td>0</td>\n",
       "    </tr>\n",
       "    <tr>\n",
       "      <th>1</th>\n",
       "      <td>7</td>\n",
       "      <td>1.0</td>\n",
       "      <td>4.935484</td>\n",
       "      <td>13.774194</td>\n",
       "      <td>481.204467</td>\n",
       "      <td>0.835826</td>\n",
       "      <td>4</td>\n",
       "      <td>1</td>\n",
       "      <td>2</td>\n",
       "      <td>412</td>\n",
       "      <td>...</td>\n",
       "      <td>At Risk</td>\n",
       "      <td>3.540429</td>\n",
       "      <td>2.482326e+04</td>\n",
       "      <td>10</td>\n",
       "      <td>4.792852</td>\n",
       "      <td>11.500000</td>\n",
       "      <td>2065.0</td>\n",
       "      <td>12</td>\n",
       "      <td>1</td>\n",
       "      <td>0</td>\n",
       "    </tr>\n",
       "    <tr>\n",
       "      <th>2</th>\n",
       "      <td>14</td>\n",
       "      <td>24.0</td>\n",
       "      <td>23.548387</td>\n",
       "      <td>23.548387</td>\n",
       "      <td>130417.780708</td>\n",
       "      <td>0.999424</td>\n",
       "      <td>1</td>\n",
       "      <td>5</td>\n",
       "      <td>5</td>\n",
       "      <td>155</td>\n",
       "      <td>...</td>\n",
       "      <td>Champions</td>\n",
       "      <td>28.788159</td>\n",
       "      <td>4.185417e+07</td>\n",
       "      <td>4898</td>\n",
       "      <td>422.643638</td>\n",
       "      <td>0.056888</td>\n",
       "      <td>1634.0</td>\n",
       "      <td>7</td>\n",
       "      <td>1</td>\n",
       "      <td>0</td>\n",
       "    </tr>\n",
       "    <tr>\n",
       "      <th>3</th>\n",
       "      <td>18</td>\n",
       "      <td>24.0</td>\n",
       "      <td>23.548387</td>\n",
       "      <td>23.548387</td>\n",
       "      <td>10205.089998</td>\n",
       "      <td>0.999424</td>\n",
       "      <td>1</td>\n",
       "      <td>5</td>\n",
       "      <td>5</td>\n",
       "      <td>155</td>\n",
       "      <td>...</td>\n",
       "      <td>Champions</td>\n",
       "      <td>28.788159</td>\n",
       "      <td>3.275095e+06</td>\n",
       "      <td>786</td>\n",
       "      <td>95.638674</td>\n",
       "      <td>0.322692</td>\n",
       "      <td>1644.0</td>\n",
       "      <td>1</td>\n",
       "      <td>0</td>\n",
       "      <td>0</td>\n",
       "    </tr>\n",
       "    <tr>\n",
       "      <th>4</th>\n",
       "      <td>25</td>\n",
       "      <td>0.0</td>\n",
       "      <td>0.000000</td>\n",
       "      <td>10.806452</td>\n",
       "      <td>0.000000</td>\n",
       "      <td>1.000000</td>\n",
       "      <td>5</td>\n",
       "      <td>1</td>\n",
       "      <td>1</td>\n",
       "      <td>511</td>\n",
       "      <td>...</td>\n",
       "      <td>At Risk</td>\n",
       "      <td>NaN</td>\n",
       "      <td>NaN</td>\n",
       "      <td>4</td>\n",
       "      <td>27.712813</td>\n",
       "      <td>0.000000</td>\n",
       "      <td>1979.0</td>\n",
       "      <td>10</td>\n",
       "      <td>1</td>\n",
       "      <td>0</td>\n",
       "    </tr>\n",
       "    <tr>\n",
       "      <th>...</th>\n",
       "      <td>...</td>\n",
       "      <td>...</td>\n",
       "      <td>...</td>\n",
       "      <td>...</td>\n",
       "      <td>...</td>\n",
       "      <td>...</td>\n",
       "      <td>...</td>\n",
       "      <td>...</td>\n",
       "      <td>...</td>\n",
       "      <td>...</td>\n",
       "      <td>...</td>\n",
       "      <td>...</td>\n",
       "      <td>...</td>\n",
       "      <td>...</td>\n",
       "      <td>...</td>\n",
       "      <td>...</td>\n",
       "      <td>...</td>\n",
       "      <td>...</td>\n",
       "      <td>...</td>\n",
       "      <td>...</td>\n",
       "      <td>...</td>\n",
       "    </tr>\n",
       "    <tr>\n",
       "      <th>170581</th>\n",
       "      <td>2274456</td>\n",
       "      <td>1.0</td>\n",
       "      <td>1.000000</td>\n",
       "      <td>1.000000</td>\n",
       "      <td>596.549160</td>\n",
       "      <td>0.969033</td>\n",
       "      <td>5</td>\n",
       "      <td>2</td>\n",
       "      <td>3</td>\n",
       "      <td>523</td>\n",
       "      <td>...</td>\n",
       "      <td>Potential Loyalist</td>\n",
       "      <td>17.968324</td>\n",
       "      <td>1.554267e+05</td>\n",
       "      <td>16</td>\n",
       "      <td>67.899914</td>\n",
       "      <td>0.469697</td>\n",
       "      <td>1652.0</td>\n",
       "      <td>8</td>\n",
       "      <td>1</td>\n",
       "      <td>0</td>\n",
       "    </tr>\n",
       "    <tr>\n",
       "      <th>170582</th>\n",
       "      <td>2274479</td>\n",
       "      <td>1.0</td>\n",
       "      <td>15.741935</td>\n",
       "      <td>22.580645</td>\n",
       "      <td>341.471800</td>\n",
       "      <td>0.936932</td>\n",
       "      <td>3</td>\n",
       "      <td>2</td>\n",
       "      <td>2</td>\n",
       "      <td>322</td>\n",
       "      <td>...</td>\n",
       "      <td>At Risk</td>\n",
       "      <td>2.595762</td>\n",
       "      <td>1.297293e+04</td>\n",
       "      <td>5</td>\n",
       "      <td>1.699673</td>\n",
       "      <td>53.888889</td>\n",
       "      <td>1839.0</td>\n",
       "      <td>10</td>\n",
       "      <td>1</td>\n",
       "      <td>0</td>\n",
       "    </tr>\n",
       "    <tr>\n",
       "      <th>170583</th>\n",
       "      <td>2274504</td>\n",
       "      <td>1.0</td>\n",
       "      <td>13.741935</td>\n",
       "      <td>21.580645</td>\n",
       "      <td>24.771000</td>\n",
       "      <td>0.925712</td>\n",
       "      <td>3</td>\n",
       "      <td>2</td>\n",
       "      <td>1</td>\n",
       "      <td>321</td>\n",
       "      <td>...</td>\n",
       "      <td>At Risk</td>\n",
       "      <td>2.669444</td>\n",
       "      <td>1.080415e+03</td>\n",
       "      <td>4</td>\n",
       "      <td>1.000000</td>\n",
       "      <td>47.222222</td>\n",
       "      <td>2321.0</td>\n",
       "      <td>11</td>\n",
       "      <td>1</td>\n",
       "      <td>0</td>\n",
       "    </tr>\n",
       "    <tr>\n",
       "      <th>170584</th>\n",
       "      <td>2274508</td>\n",
       "      <td>0.0</td>\n",
       "      <td>0.000000</td>\n",
       "      <td>22.580645</td>\n",
       "      <td>0.000000</td>\n",
       "      <td>1.000000</td>\n",
       "      <td>5</td>\n",
       "      <td>1</td>\n",
       "      <td>1</td>\n",
       "      <td>511</td>\n",
       "      <td>...</td>\n",
       "      <td>At Risk</td>\n",
       "      <td>NaN</td>\n",
       "      <td>NaN</td>\n",
       "      <td>4</td>\n",
       "      <td>44.756484</td>\n",
       "      <td>0.000000</td>\n",
       "      <td>2336.0</td>\n",
       "      <td>10</td>\n",
       "      <td>1</td>\n",
       "      <td>0</td>\n",
       "    </tr>\n",
       "    <tr>\n",
       "      <th>170585</th>\n",
       "      <td>2274517</td>\n",
       "      <td>15.0</td>\n",
       "      <td>21.580645</td>\n",
       "      <td>22.580645</td>\n",
       "      <td>1056.891610</td>\n",
       "      <td>0.998193</td>\n",
       "      <td>2</td>\n",
       "      <td>4</td>\n",
       "      <td>3</td>\n",
       "      <td>243</td>\n",
       "      <td>...</td>\n",
       "      <td>Potential Loyalist</td>\n",
       "      <td>19.252171</td>\n",
       "      <td>2.281647e+05</td>\n",
       "      <td>33</td>\n",
       "      <td>67.695690</td>\n",
       "      <td>8.654321</td>\n",
       "      <td>1894.0</td>\n",
       "      <td>6</td>\n",
       "      <td>1</td>\n",
       "      <td>0</td>\n",
       "    </tr>\n",
       "  </tbody>\n",
       "</table>\n",
       "<p>170586 rows × 21 columns</p>\n",
       "</div>"
      ],
      "text/plain": [
       "        client_id  frequency    recency          T  monetary_value  \\\n",
       "0               6        8.0  21.580645  22.580645      565.517890   \n",
       "1               7        1.0   4.935484  13.774194      481.204467   \n",
       "2              14       24.0  23.548387  23.548387   130417.780708   \n",
       "3              18       24.0  23.548387  23.548387    10205.089998   \n",
       "4              25        0.0   0.000000  10.806452        0.000000   \n",
       "...           ...        ...        ...        ...             ...   \n",
       "170581    2274456        1.0   1.000000   1.000000      596.549160   \n",
       "170582    2274479        1.0  15.741935  22.580645      341.471800   \n",
       "170583    2274504        1.0  13.741935  21.580645       24.771000   \n",
       "170584    2274508        0.0   0.000000  22.580645        0.000000   \n",
       "170585    2274517       15.0  21.580645  22.580645     1056.891610   \n",
       "\n",
       "        alive_probability RecencyScore FrequencyScore MonetaryScore  \\\n",
       "0                0.997355            2              3             3   \n",
       "1                0.835826            4              1             2   \n",
       "2                0.999424            1              5             5   \n",
       "3                0.999424            1              5             5   \n",
       "4                1.000000            5              1             1   \n",
       "...                   ...          ...            ...           ...   \n",
       "170581           0.969033            5              2             3   \n",
       "170582           0.936932            3              2             2   \n",
       "170583           0.925712            3              2             1   \n",
       "170584           1.000000            5              1             1   \n",
       "170585           0.998193            2              4             3   \n",
       "\n",
       "       RFM_Segment  ...           RFM_Level predicted_purchases           clv  \\\n",
       "0              233  ...      Need Attention           11.001609  7.078255e+04   \n",
       "1              412  ...             At Risk            3.540429  2.482326e+04   \n",
       "2              155  ...           Champions           28.788159  4.185417e+07   \n",
       "3              155  ...           Champions           28.788159  3.275095e+06   \n",
       "4              511  ...             At Risk                 NaN           NaN   \n",
       "...            ...  ...                 ...                 ...           ...   \n",
       "170581         523  ...  Potential Loyalist           17.968324  1.554267e+05   \n",
       "170582         322  ...             At Risk            2.595762  1.297293e+04   \n",
       "170583         321  ...             At Risk            2.669444  1.080415e+03   \n",
       "170584         511  ...             At Risk                 NaN           NaN   \n",
       "170585         243  ...  Potential Loyalist           19.252171  2.281647e+05   \n",
       "\n",
       "        product_diversity  order_size_variability  rolling_recency  \\\n",
       "0                      37              183.530609        16.572650   \n",
       "1                      10                4.792852        11.500000   \n",
       "2                    4898              422.643638         0.056888   \n",
       "3                     786               95.638674         0.322692   \n",
       "4                       4               27.712813         0.000000   \n",
       "...                   ...                     ...              ...   \n",
       "170581                 16               67.899914         0.469697   \n",
       "170582                  5                1.699673        53.888889   \n",
       "170583                  4                1.000000        47.222222   \n",
       "170584                  4               44.756484         0.000000   \n",
       "170585                 33               67.695690         8.654321   \n",
       "\n",
       "        days_since_last_major  most_common_purchase_month  \\\n",
       "0                      1691.0                           7   \n",
       "1                      2065.0                          12   \n",
       "2                      1634.0                           7   \n",
       "3                      1644.0                           1   \n",
       "4                      1979.0                          10   \n",
       "...                       ...                         ...   \n",
       "170581                 1652.0                           8   \n",
       "170582                 1839.0                          10   \n",
       "170583                 2321.0                          11   \n",
       "170584                 2336.0                          10   \n",
       "170585                 1894.0                           6   \n",
       "\n",
       "        segment_specific_risk_of_churn  churned  \n",
       "0                                    0        0  \n",
       "1                                    1        0  \n",
       "2                                    1        0  \n",
       "3                                    0        0  \n",
       "4                                    1        0  \n",
       "...                                ...      ...  \n",
       "170581                               1        0  \n",
       "170582                               1        0  \n",
       "170583                               1        0  \n",
       "170584                               1        0  \n",
       "170585                               1        0  \n",
       "\n",
       "[170586 rows x 21 columns]"
      ]
     },
     "execution_count": 69,
     "metadata": {},
     "output_type": "execute_result"
    }
   ],
   "source": [
    "rfm"
   ]
  },
  {
   "cell_type": "code",
   "execution_count": null,
   "metadata": {
    "id": "XWNR5KAMn1ul",
    "outputId": "0a5e1b88-c8bc-4b12-dc73-d3dcd5c84e8c"
   },
   "outputs": [
    {
     "data": {
      "text/plain": [
       "Index(['client_id', 'frequency', 'recency', 'T', 'monetary_value',\n",
       "       'alive_probability', 'RecencyScore', 'FrequencyScore', 'MonetaryScore',\n",
       "       'RFM_Segment', 'RFM_Score', 'RFM_Level', 'predicted_purchases', 'clv',\n",
       "       'product_diversity', 'order_size_variability', 'rolling_recency',\n",
       "       'days_since_last_major', 'most_common_purchase_month',\n",
       "       'segment_specific_risk_of_churn', 'churned'],\n",
       "      dtype='object')"
      ]
     },
     "execution_count": 68,
     "metadata": {},
     "output_type": "execute_result"
    }
   ],
   "source": [
    "rfm.columns"
   ]
  },
  {
   "cell_type": "code",
   "execution_count": null,
   "metadata": {
    "id": "inaKfWKJn1ul",
    "outputId": "e23826c6-3096-4ea0-e3d9-22adee02c2c2"
   },
   "outputs": [
    {
     "name": "stdout",
     "output_type": "stream",
     "text": [
      "2\n"
     ]
    }
   ],
   "source": [
    "#  number of unquiue values in churned column\n",
    "print(rfm['churned'].nunique())"
   ]
  },
  {
   "cell_type": "code",
   "execution_count": null,
   "metadata": {
    "id": "I6VN7hWhn1ul"
   },
   "outputs": [],
   "source": [
    "def define_churn(row):\n",
    "    # Determine the threshold for inactivity in terms of recency and customer age (T)\n",
    "    # For example, if recency is close to T, it means the customer hasn't purchased in a long time\n",
    "    inactivity_threshold = 0.7  # 70% of the time between first purchase and last purchase\n",
    "\n",
    "    # For customers with zero frequency, look at their 'alive_probability' more closely.\n",
    "    # This considers that even one-time buyers might not be churned if they're still relatively 'alive' according to the model.\n",
    "    if row['frequency'] == 0:\n",
    "        churn_indicator = 1 if row['alive_probability'] < 0.5 else 0\n",
    "    elif row['recency'] / row['T'] < inactivity_threshold and row['alive_probability'] < 0.5:\n",
    "        churn_indicator = 1  # High inactivity and low 'alive' probability\n",
    "    elif row['RFM_Level'] in ['Hibernating', 'At Risk'] and row['alive_probability'] < 0.5:\n",
    "        churn_indicator = 1  # Low engagement (RFM) and low 'alive' probability\n",
    "    else:\n",
    "        churn_indicator = 0  # Not churned\n",
    "\n",
    "    return churn_indicator"
   ]
  },
  {
   "cell_type": "code",
   "execution_count": null,
   "metadata": {
    "id": "od55OakPn1um"
   },
   "outputs": [],
   "source": [
    "# drop the 'is_churned' column\n",
    "rfm.drop('is_churned', axis=1, inplace=True)"
   ]
  },
  {
   "cell_type": "code",
   "execution_count": null,
   "metadata": {
    "id": "2uIIoNE2n1um"
   },
   "outputs": [],
   "source": [
    "rfm['is_churned'] = rfm.apply(define_churn, axis=1)"
   ]
  },
  {
   "cell_type": "code",
   "execution_count": null,
   "metadata": {
    "id": "kbtTeqaTn1um",
    "outputId": "9628d578-db29-4291-8f19-0941e5254497"
   },
   "outputs": [
    {
     "ename": "KeyError",
     "evalue": "'is_churned'",
     "output_type": "error",
     "traceback": [
      "\u001b[0;31m---------------------------------------------------------------------------\u001b[0m",
      "\u001b[0;31mKeyError\u001b[0m                                  Traceback (most recent call last)",
      "File \u001b[0;32m~/anaconda3/envs/myenvironment/lib/python3.10/site-packages/pandas/core/indexes/base.py:3652\u001b[0m, in \u001b[0;36mIndex.get_loc\u001b[0;34m(self, key)\u001b[0m\n\u001b[1;32m   3651\u001b[0m \u001b[38;5;28;01mtry\u001b[39;00m:\n\u001b[0;32m-> 3652\u001b[0m     \u001b[38;5;28;01mreturn\u001b[39;00m \u001b[38;5;28;43mself\u001b[39;49m\u001b[38;5;241;43m.\u001b[39;49m\u001b[43m_engine\u001b[49m\u001b[38;5;241;43m.\u001b[39;49m\u001b[43mget_loc\u001b[49m\u001b[43m(\u001b[49m\u001b[43mcasted_key\u001b[49m\u001b[43m)\u001b[49m\n\u001b[1;32m   3653\u001b[0m \u001b[38;5;28;01mexcept\u001b[39;00m \u001b[38;5;167;01mKeyError\u001b[39;00m \u001b[38;5;28;01mas\u001b[39;00m err:\n",
      "File \u001b[0;32m~/anaconda3/envs/myenvironment/lib/python3.10/site-packages/pandas/_libs/index.pyx:147\u001b[0m, in \u001b[0;36mpandas._libs.index.IndexEngine.get_loc\u001b[0;34m()\u001b[0m\n",
      "File \u001b[0;32m~/anaconda3/envs/myenvironment/lib/python3.10/site-packages/pandas/_libs/index.pyx:176\u001b[0m, in \u001b[0;36mpandas._libs.index.IndexEngine.get_loc\u001b[0;34m()\u001b[0m\n",
      "File \u001b[0;32mpandas/_libs/hashtable_class_helper.pxi:7080\u001b[0m, in \u001b[0;36mpandas._libs.hashtable.PyObjectHashTable.get_item\u001b[0;34m()\u001b[0m\n",
      "File \u001b[0;32mpandas/_libs/hashtable_class_helper.pxi:7088\u001b[0m, in \u001b[0;36mpandas._libs.hashtable.PyObjectHashTable.get_item\u001b[0;34m()\u001b[0m\n",
      "\u001b[0;31mKeyError\u001b[0m: 'is_churned'",
      "\nThe above exception was the direct cause of the following exception:\n",
      "\u001b[0;31mKeyError\u001b[0m                                  Traceback (most recent call last)",
      "Cell \u001b[0;32mIn[144], line 2\u001b[0m\n\u001b[1;32m      1\u001b[0m \u001b[38;5;66;03m# count the number of churned customers where column 'is_churned' is 1\u001b[39;00m\n\u001b[0;32m----> 2\u001b[0m churned_customers \u001b[38;5;241m=\u001b[39m \u001b[43mrfm\u001b[49m\u001b[43m[\u001b[49m\u001b[38;5;124;43m'\u001b[39;49m\u001b[38;5;124;43mis_churned\u001b[39;49m\u001b[38;5;124;43m'\u001b[39;49m\u001b[43m]\u001b[49m\u001b[38;5;241m.\u001b[39msum()\n\u001b[1;32m      3\u001b[0m \u001b[38;5;28mprint\u001b[39m(\u001b[38;5;124mf\u001b[39m\u001b[38;5;124m\"\u001b[39m\u001b[38;5;124mNumber of churned customers: \u001b[39m\u001b[38;5;132;01m{\u001b[39;00mchurned_customers\u001b[38;5;132;01m}\u001b[39;00m\u001b[38;5;124m\"\u001b[39m)\n",
      "File \u001b[0;32m~/anaconda3/envs/myenvironment/lib/python3.10/site-packages/pandas/core/frame.py:3761\u001b[0m, in \u001b[0;36mDataFrame.__getitem__\u001b[0;34m(self, key)\u001b[0m\n\u001b[1;32m   3759\u001b[0m \u001b[38;5;28;01mif\u001b[39;00m \u001b[38;5;28mself\u001b[39m\u001b[38;5;241m.\u001b[39mcolumns\u001b[38;5;241m.\u001b[39mnlevels \u001b[38;5;241m>\u001b[39m \u001b[38;5;241m1\u001b[39m:\n\u001b[1;32m   3760\u001b[0m     \u001b[38;5;28;01mreturn\u001b[39;00m \u001b[38;5;28mself\u001b[39m\u001b[38;5;241m.\u001b[39m_getitem_multilevel(key)\n\u001b[0;32m-> 3761\u001b[0m indexer \u001b[38;5;241m=\u001b[39m \u001b[38;5;28;43mself\u001b[39;49m\u001b[38;5;241;43m.\u001b[39;49m\u001b[43mcolumns\u001b[49m\u001b[38;5;241;43m.\u001b[39;49m\u001b[43mget_loc\u001b[49m\u001b[43m(\u001b[49m\u001b[43mkey\u001b[49m\u001b[43m)\u001b[49m\n\u001b[1;32m   3762\u001b[0m \u001b[38;5;28;01mif\u001b[39;00m is_integer(indexer):\n\u001b[1;32m   3763\u001b[0m     indexer \u001b[38;5;241m=\u001b[39m [indexer]\n",
      "File \u001b[0;32m~/anaconda3/envs/myenvironment/lib/python3.10/site-packages/pandas/core/indexes/base.py:3654\u001b[0m, in \u001b[0;36mIndex.get_loc\u001b[0;34m(self, key)\u001b[0m\n\u001b[1;32m   3652\u001b[0m     \u001b[38;5;28;01mreturn\u001b[39;00m \u001b[38;5;28mself\u001b[39m\u001b[38;5;241m.\u001b[39m_engine\u001b[38;5;241m.\u001b[39mget_loc(casted_key)\n\u001b[1;32m   3653\u001b[0m \u001b[38;5;28;01mexcept\u001b[39;00m \u001b[38;5;167;01mKeyError\u001b[39;00m \u001b[38;5;28;01mas\u001b[39;00m err:\n\u001b[0;32m-> 3654\u001b[0m     \u001b[38;5;28;01mraise\u001b[39;00m \u001b[38;5;167;01mKeyError\u001b[39;00m(key) \u001b[38;5;28;01mfrom\u001b[39;00m \u001b[38;5;21;01merr\u001b[39;00m\n\u001b[1;32m   3655\u001b[0m \u001b[38;5;28;01mexcept\u001b[39;00m \u001b[38;5;167;01mTypeError\u001b[39;00m:\n\u001b[1;32m   3656\u001b[0m     \u001b[38;5;66;03m# If we have a listlike key, _check_indexing_error will raise\u001b[39;00m\n\u001b[1;32m   3657\u001b[0m     \u001b[38;5;66;03m#  InvalidIndexError. Otherwise we fall through and re-raise\u001b[39;00m\n\u001b[1;32m   3658\u001b[0m     \u001b[38;5;66;03m#  the TypeError.\u001b[39;00m\n\u001b[1;32m   3659\u001b[0m     \u001b[38;5;28mself\u001b[39m\u001b[38;5;241m.\u001b[39m_check_indexing_error(key)\n",
      "\u001b[0;31mKeyError\u001b[0m: 'is_churned'"
     ]
    }
   ],
   "source": [
    "# count the number of churned customers where column 'is_churned' is 1\n",
    "churned_customers = rfm['is_churned'].sum()\n",
    "print(f\"Number of churned customers: {churned_customers}\")"
   ]
  },
  {
   "cell_type": "code",
   "execution_count": null,
   "metadata": {
    "id": "9jZPEjv6n1um"
   },
   "outputs": [],
   "source": [
    "# Automatically determine the latest date in your dataset for the observation period end\n",
    "latest_date = transaction_data['date_order'].max()\n",
    "\n",
    "# For the calibration period end, we might choose a date that splits the data.\n",
    "# For simplicity, let's assume we want to use the last 6 months of data as the observation period.\n",
    "\n",
    "from datetime import timedelta\n",
    "calibration_period_end = latest_date - timedelta(days=180)  # Adjust based on your needs"
   ]
  },
  {
   "cell_type": "code",
   "execution_count": null,
   "metadata": {
    "id": "HAvueDwun1um",
    "outputId": "ab3cdb38-eed3-4dfb-af31-628e5152f3f1"
   },
   "outputs": [
    {
     "name": "stdout",
     "output_type": "stream",
     "text": [
      "           frequency_cal  recency_cal  T_cal  monetary_value_cal  \\\n",
      "client_id                                                          \n",
      "6                    6.0         68.0   74.0          355.716209   \n",
      "7                    1.0         23.0   36.0          481.204467   \n",
      "14                  77.0         78.0   78.0        30472.042788   \n",
      "\n",
      "           frequency_holdout  monetary_value_holdout  duration_holdout  \n",
      "client_id                                                               \n",
      "6                        3.0              199.153823              25.0  \n",
      "7                        0.0                0.000000              25.0  \n",
      "14                      26.0              231.229803              25.0  \n"
     ]
    }
   ],
   "source": [
    "rfm_cal_holdout = calibration_and_holdout_data(\n",
    "    transactions=transaction_data,\n",
    "    customer_id_col='client_id',\n",
    "    datetime_col='date_order',\n",
    "    monetary_value_col='sales_net',\n",
    "    calibration_period_end=calibration_period_end,\n",
    "    observation_period_end=latest_date,\n",
    "    freq='W'  # Weekly frequency, adjust if needed\n",
    ")\n",
    "\n",
    "print(rfm_cal_holdout.head(3))"
   ]
  },
  {
   "cell_type": "code",
   "execution_count": null,
   "metadata": {
    "id": "4CIk-xGXn1um",
    "outputId": "bc548e67-2039-46a2-f281-1897c061799e"
   },
   "outputs": [
    {
     "data": {
      "text/html": [
       "<div>\n",
       "<style scoped>\n",
       "    .dataframe tbody tr th:only-of-type {\n",
       "        vertical-align: middle;\n",
       "    }\n",
       "\n",
       "    .dataframe tbody tr th {\n",
       "        vertical-align: top;\n",
       "    }\n",
       "\n",
       "    .dataframe thead th {\n",
       "        text-align: right;\n",
       "    }\n",
       "</style>\n",
       "<table border=\"1\" class=\"dataframe\">\n",
       "  <thead>\n",
       "    <tr style=\"text-align: right;\">\n",
       "      <th></th>\n",
       "      <th>frequency_cal</th>\n",
       "      <th>recency_cal</th>\n",
       "      <th>T_cal</th>\n",
       "      <th>monetary_value_cal</th>\n",
       "      <th>frequency_holdout</th>\n",
       "      <th>monetary_value_holdout</th>\n",
       "      <th>duration_holdout</th>\n",
       "    </tr>\n",
       "    <tr>\n",
       "      <th>client_id</th>\n",
       "      <th></th>\n",
       "      <th></th>\n",
       "      <th></th>\n",
       "      <th></th>\n",
       "      <th></th>\n",
       "      <th></th>\n",
       "      <th></th>\n",
       "    </tr>\n",
       "  </thead>\n",
       "  <tbody>\n",
       "    <tr>\n",
       "      <th>6</th>\n",
       "      <td>6.0</td>\n",
       "      <td>68.0</td>\n",
       "      <td>74.0</td>\n",
       "      <td>355.716209</td>\n",
       "      <td>3.0</td>\n",
       "      <td>199.153823</td>\n",
       "      <td>25.0</td>\n",
       "    </tr>\n",
       "    <tr>\n",
       "      <th>7</th>\n",
       "      <td>1.0</td>\n",
       "      <td>23.0</td>\n",
       "      <td>36.0</td>\n",
       "      <td>481.204467</td>\n",
       "      <td>0.0</td>\n",
       "      <td>0.000000</td>\n",
       "      <td>25.0</td>\n",
       "    </tr>\n",
       "    <tr>\n",
       "      <th>14</th>\n",
       "      <td>77.0</td>\n",
       "      <td>78.0</td>\n",
       "      <td>78.0</td>\n",
       "      <td>30472.042788</td>\n",
       "      <td>26.0</td>\n",
       "      <td>231.229803</td>\n",
       "      <td>25.0</td>\n",
       "    </tr>\n",
       "    <tr>\n",
       "      <th>18</th>\n",
       "      <td>72.0</td>\n",
       "      <td>78.0</td>\n",
       "      <td>78.0</td>\n",
       "      <td>2128.797980</td>\n",
       "      <td>23.0</td>\n",
       "      <td>113.198271</td>\n",
       "      <td>25.0</td>\n",
       "    </tr>\n",
       "    <tr>\n",
       "      <th>25</th>\n",
       "      <td>0.0</td>\n",
       "      <td>0.0</td>\n",
       "      <td>24.0</td>\n",
       "      <td>0.000000</td>\n",
       "      <td>0.0</td>\n",
       "      <td>0.000000</td>\n",
       "      <td>25.0</td>\n",
       "    </tr>\n",
       "    <tr>\n",
       "      <th>...</th>\n",
       "      <td>...</td>\n",
       "      <td>...</td>\n",
       "      <td>...</td>\n",
       "      <td>...</td>\n",
       "      <td>...</td>\n",
       "      <td>...</td>\n",
       "      <td>...</td>\n",
       "    </tr>\n",
       "    <tr>\n",
       "      <th>2274440</th>\n",
       "      <td>13.0</td>\n",
       "      <td>77.0</td>\n",
       "      <td>78.0</td>\n",
       "      <td>1350.994346</td>\n",
       "      <td>8.0</td>\n",
       "      <td>120.767826</td>\n",
       "      <td>25.0</td>\n",
       "    </tr>\n",
       "    <tr>\n",
       "      <th>2274479</th>\n",
       "      <td>1.0</td>\n",
       "      <td>69.0</td>\n",
       "      <td>73.0</td>\n",
       "      <td>341.471800</td>\n",
       "      <td>0.0</td>\n",
       "      <td>0.000000</td>\n",
       "      <td>25.0</td>\n",
       "    </tr>\n",
       "    <tr>\n",
       "      <th>2274504</th>\n",
       "      <td>1.0</td>\n",
       "      <td>61.0</td>\n",
       "      <td>73.0</td>\n",
       "      <td>24.771000</td>\n",
       "      <td>0.0</td>\n",
       "      <td>0.000000</td>\n",
       "      <td>25.0</td>\n",
       "    </tr>\n",
       "    <tr>\n",
       "      <th>2274508</th>\n",
       "      <td>0.0</td>\n",
       "      <td>0.0</td>\n",
       "      <td>75.0</td>\n",
       "      <td>0.000000</td>\n",
       "      <td>0.0</td>\n",
       "      <td>0.000000</td>\n",
       "      <td>25.0</td>\n",
       "    </tr>\n",
       "    <tr>\n",
       "      <th>2274517</th>\n",
       "      <td>16.0</td>\n",
       "      <td>73.0</td>\n",
       "      <td>77.0</td>\n",
       "      <td>794.220570</td>\n",
       "      <td>6.0</td>\n",
       "      <td>131.076876</td>\n",
       "      <td>25.0</td>\n",
       "    </tr>\n",
       "  </tbody>\n",
       "</table>\n",
       "<p>158551 rows × 7 columns</p>\n",
       "</div>"
      ],
      "text/plain": [
       "           frequency_cal  recency_cal  T_cal  monetary_value_cal  \\\n",
       "client_id                                                          \n",
       "6                    6.0         68.0   74.0          355.716209   \n",
       "7                    1.0         23.0   36.0          481.204467   \n",
       "14                  77.0         78.0   78.0        30472.042788   \n",
       "18                  72.0         78.0   78.0         2128.797980   \n",
       "25                   0.0          0.0   24.0            0.000000   \n",
       "...                  ...          ...    ...                 ...   \n",
       "2274440             13.0         77.0   78.0         1350.994346   \n",
       "2274479              1.0         69.0   73.0          341.471800   \n",
       "2274504              1.0         61.0   73.0           24.771000   \n",
       "2274508              0.0          0.0   75.0            0.000000   \n",
       "2274517             16.0         73.0   77.0          794.220570   \n",
       "\n",
       "           frequency_holdout  monetary_value_holdout  duration_holdout  \n",
       "client_id                                                               \n",
       "6                        3.0              199.153823              25.0  \n",
       "7                        0.0                0.000000              25.0  \n",
       "14                      26.0              231.229803              25.0  \n",
       "18                      23.0              113.198271              25.0  \n",
       "25                       0.0                0.000000              25.0  \n",
       "...                      ...                     ...               ...  \n",
       "2274440                  8.0              120.767826              25.0  \n",
       "2274479                  0.0                0.000000              25.0  \n",
       "2274504                  0.0                0.000000              25.0  \n",
       "2274508                  0.0                0.000000              25.0  \n",
       "2274517                  6.0              131.076876              25.0  \n",
       "\n",
       "[158551 rows x 7 columns]"
      ]
     },
     "execution_count": 22,
     "metadata": {},
     "output_type": "execute_result"
    }
   ],
   "source": [
    "rfm_cal_holdout"
   ]
  },
  {
   "cell_type": "code",
   "execution_count": null,
   "metadata": {
    "id": "MltVxG4fn1um",
    "outputId": "164fcb87-c15c-4368-aee9-ee9ca440c098"
   },
   "outputs": [
    {
     "name": "stdout",
     "output_type": "stream",
     "text": [
      "Model fitting completed.\n"
     ]
    }
   ],
   "source": [
    "from lifetimes import BetaGeoFitter\n",
    "\n",
    "# Instantiate the BG/NBD model\n",
    "bgf = BetaGeoFitter(penalizer_coef=0.0)\n",
    "\n",
    "# Fit the BG/NBD model on the calibration data\n",
    "bgf.fit(frequency=rfm_cal_holdout['frequency_cal'],\n",
    "        recency=rfm_cal_holdout['recency_cal'],\n",
    "        T=rfm_cal_holdout['T_cal'])\n",
    "\n",
    "print(\"Model fitting completed.\")"
   ]
  },
  {
   "cell_type": "code",
   "execution_count": null,
   "metadata": {
    "id": "9G63GMJrn1um",
    "outputId": "c735c63c-7a42-42f6-c14a-2a497dd9b2e5"
   },
   "outputs": [
    {
     "data": {
      "image/png": "[encoded data removed]",
      "text/plain": [
       "<Figure size 640x480 with 1 Axes>"
      ]
     },
     "metadata": {},
     "output_type": "display_data"
    }
   ],
   "source": [
    "from lifetimes.plotting import plot_period_transactions\n",
    "\n",
    "# Plot actual vs predicted transactions\n",
    "_ = plot_period_transactions(bgf)"
   ]
  },
  {
   "cell_type": "code",
   "execution_count": null,
   "metadata": {
    "id": "REcL-zH9n1um",
    "outputId": "3b9e38d5-199c-4b9c-c231-0e31f5fd9cb7"
   },
   "outputs": [
    {
     "data": {
      "image/png": "[encoded data removed]",
      "text/plain": [
       "<Figure size 640x480 with 1 Axes>"
      ]
     },
     "metadata": {},
     "output_type": "display_data"
    }
   ],
   "source": [
    "from lifetimes.plotting import plot_period_transactions\n",
    "\n",
    "# Plot actual vs predicted transactions\n",
    "_ = plot_period_transactions(bgf)"
   ]
  },
  {
   "cell_type": "code",
   "execution_count": null,
   "metadata": {
    "id": "ZVwKZ3eUn1un",
    "outputId": "265cdb05-e402-4f0d-d334-24e26fe83354"
   },
   "outputs": [
    {
     "name": "stdout",
     "output_type": "stream",
     "text": [
      "frequency_cal              11.000000\n",
      "recency_cal                52.000000\n",
      "T_cal                      66.000000\n",
      "monetary_value_cal        419.850339\n",
      "frequency_holdout           6.000000\n",
      "monetary_value_holdout     63.034026\n",
      "duration_holdout           25.000000\n",
      "Name: 211, dtype: float64\n"
     ]
    }
   ],
   "source": [
    "# Select a sample customer from the calibration and holdout dataset\n",
    "sample_customer = rfm_cal_holdout.iloc[20]\n",
    "\n",
    "# Inspect the selected customer's metrics\n",
    "print(sample_customer)"
   ]
  },
  {
   "cell_type": "code",
   "execution_count": null,
   "metadata": {
    "id": "5J4ZtiHYn1un",
    "outputId": "8572d158-4ef6-4f62-e211-ed748352e260"
   },
   "outputs": [
    {
     "name": "stdout",
     "output_type": "stream",
     "text": [
      "Predicted number of transactions in next 26 weeks: 4.101270402615595\n"
     ]
    }
   ],
   "source": [
    "# Predict the expected number of transactions for the next 26 weeks\n",
    "n_transactions_pred = bgf.predict(t=26,  # Number of weeks\n",
    "                                  frequency=sample_customer['frequency_cal'],\n",
    "                                  recency=sample_customer['recency_cal'],\n",
    "                                  T=sample_customer['T_cal'])\n",
    "\n",
    "print(f\"Predicted number of transactions in next 26 weeks: {n_transactions_pred}\")\n"
   ]
  },
  {
   "cell_type": "code",
   "execution_count": null,
   "metadata": {
    "id": "F6GEZiOYn1un",
    "outputId": "323a2f6f-de35-47a7-c9f9-862840f1bf4c"
   },
   "outputs": [
    {
     "name": "stdout",
     "output_type": "stream",
     "text": [
      "Probability of being alive: [0.93051783]\n"
     ]
    }
   ],
   "source": [
    "# Calculate the probability that the customer is still active\n",
    "alive_prob = bgf.conditional_probability_alive(frequency=sample_customer['frequency_cal'],\n",
    "                                               recency=sample_customer['recency_cal'],\n",
    "                                               T=sample_customer['T_cal'])\n",
    "\n",
    "print(f\"Probability of being alive: {alive_prob}\")"
   ]
  },
  {
   "cell_type": "code",
   "execution_count": null,
   "metadata": {
    "id": "ktdbq6zvn1un",
    "outputId": "2d344a39-05e9-4c41-ca57-b2b31a6d4339"
   },
   "outputs": [
    {
     "data": {
      "image/png": "[encoded data removed]",
      "text/plain": [
       "<Figure size 2000x1600 with 2 Axes>"
      ]
     },
     "metadata": {},
     "output_type": "display_data"
    }
   ],
   "source": [
    "import numpy as np\n",
    "import scipy.stats as stats\n",
    "from matplotlib import pyplot as plt\n",
    "\n",
    "fig, (ax_gamma, ax_beta) = plt.subplots(ncols=1, nrows=2, figsize=(20, 16))\n",
    "\n",
    "# Gamma Distribution\n",
    "x_gamma = np.linspace(0, 10, 1000)\n",
    "y_gamma = stats.gamma.pdf(x_gamma, a=bgf.params_[\"alpha\"], scale=1/bgf.params_[\"r\"])\n",
    "ax_gamma.plot(x_gamma, y_gamma, \"-\")\n",
    "ax_gamma.set_title(f'Gamma distribution (alpha = {bgf.params_[\"alpha\"]:.2f}, scale (r)  = {1/bgf.params_[\"r\"]:.2f})')\n",
    "ax_gamma.set_xlabel(r'$\\lambda$')\n",
    "ax_gamma.set_ylabel(r'$P(\\lambda)$')\n",
    "\n",
    "# Beta Distribution\n",
    "x_beta = np.linspace(0, 1, 100)\n",
    "y_beta = stats.beta.pdf(x_beta, a=bgf.params_[\"a\"], b=bgf.params_[\"b\"])\n",
    "ax_beta.plot(x_beta, y_beta, \"-\")\n",
    "ax_beta.set_title(f'Beta distribution (a = {bgf.params_[\"a\"]:.2f}, b  = {bgf.params_[\"b\"]:.2f})')\n",
    "ax_beta.set_xlabel('p')\n",
    "ax_beta.set_ylabel('P(p)')\n",
    "\n",
    "plt.show()"
   ]
  }
 ],
 "metadata": {
  "colab": {
   "provenance": []
  },
  "kernelspec": {
   "display_name": "Python 3 (ipykernel)",
   "language": "python",
   "name": "python3"
  },
  "language_info": {
   "codemirror_mode": {
    "name": "ipython",
    "version": 3
   },
   "file_extension": ".py",
   "mimetype": "text/x-python",
   "name": "python",
   "nbconvert_exporter": "python",
   "pygments_lexer": "ipython3",
   "version": "3.10.13"
  }
 },
 "nbformat": 4,
 "nbformat_minor": 4
}
